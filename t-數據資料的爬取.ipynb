{
 "cells": [
  {
   "cell_type": "markdown",
   "metadata": {
    "id": "67Pcatw7vY7W"
   },
   "source": [
    "# requests 模組：讀取網站檔案"
   ]
  },
  {
   "cell_type": "markdown",
   "metadata": {
    "id": "YCAtT6q1upoU"
   },
   "source": [
    "## 讀取網頁原始碼"
   ]
  },
  {
   "cell_type": "code",
   "execution_count": 1,
   "metadata": {},
   "outputs": [
    {
     "name": "stdout",
     "output_type": "stream",
     "text": [
      "<class 'requests.models.Response'>\n",
      "<Response [200]>\n",
      "<!doctype html>\n",
      "<html>\n",
      "  <head>\n",
      "    <meta charset=\"UTF-8\">\n",
      "    <title>Hello</title>\n",
      "  </head>\n",
      "  <body>\n",
      "    <p>Hello World!</p>\n",
      "  </body>\n",
      "</html>\n"
     ]
    }
   ],
   "source": [
    "#https://blog.gtwang.org/programming/python-requests-module-tutorial/\n",
    "#https://www.w3schools.com/python/module_requests.asp\n",
    "#https://steam.oxxostudio.tw/category/python/spider/requests.html\n",
    "\n",
    "# get.py\n",
    "import requests\n",
    "url = 'http://www.ehappy.tw/demo.htm'\n",
    "html = requests.get(url)\n",
    "# 檢查HTTP回應碼是否為200(requests.code.ok)\n",
    "if html.status_code == requests.codes.ok:\n",
    "    print(type(html))\n",
    "    print(html)\n",
    "    print(html.text)"
   ]
  },
  {
   "cell_type": "code",
   "execution_count": 2,
   "metadata": {
    "colab": {
     "base_uri": "https://localhost:8080/"
    },
    "id": "6gkohlk7uYOe",
    "outputId": "e1fd5414-5907-445f-b6cb-6ecf98ca81db"
   },
   "outputs": [
    {
     "name": "stdout",
     "output_type": "stream",
     "text": [
      "<!doctype html>\n",
      "<html>\n",
      "  <head>\n",
      "    <meta charset=\"UTF-8\">\n",
      "    <title>Hello</title>\n",
      "  </head>\n",
      "  <body>\n",
      "    <p>Hello World!</p>\n",
      "  </body>\n",
      "</html>\n"
     ]
    }
   ],
   "source": [
    "import requests\n",
    "url = 'http://www.ehappy.tw/demo.htm'\n",
    "html = requests.get(url)\n",
    "# 檢查HTTP回應碼是否為200(requests.code.ok)\n",
    "if html.status_code == requests.codes.ok:\n",
    "    print(html.text)"
   ]
  },
  {
   "cell_type": "markdown",
   "metadata": {
    "id": "EKm2uq_Kvwy8"
   },
   "source": [
    "## 加上 URL 參數"
   ]
  },
  {
   "cell_type": "code",
   "execution_count": 3,
   "metadata": {
    "colab": {
     "base_uri": "https://localhost:8080/"
    },
    "id": "5xTaLcg7upWc",
    "outputId": "5da4a8f8-9abf-4b75-88f2-5f0c38f7b8d0"
   },
   "outputs": [
    {
     "name": "stdout",
     "output_type": "stream",
     "text": [
      "{\n",
      "  \"args\": {\n",
      "    \"key1\": \"value1\", \n",
      "    \"key2\": \"value2\"\n",
      "  }, \n",
      "  \"headers\": {\n",
      "    \"Accept\": \"*/*\", \n",
      "    \"Accept-Encoding\": \"gzip, deflate, br\", \n",
      "    \"Host\": \"httpbin.org\", \n",
      "    \"User-Agent\": \"python-requests/2.26.0\", \n",
      "    \"X-Amzn-Trace-Id\": \"Root=1-64ee8a37-078cb89417633b76763f1d04\"\n",
      "  }, \n",
      "  \"origin\": \"218.164.152.206\", \n",
      "  \"url\": \"http://httpbin.org/get?key1=value1&key2=value2\"\n",
      "}\n",
      "\n"
     ]
    }
   ],
   "source": [
    "import requests\n",
    "# 將查詢參數定義為字典資料加入GET請求中\n",
    "payload = {'key1': 'value1', 'key2': 'value2'} #字典\n",
    "html = requests.get(\"http://httpbin.org/get\",\n",
    "                     params=payload)  #測試網址http://httpbin.org/get\n",
    "print(html.text)"
   ]
  },
  {
   "cell_type": "code",
   "execution_count": 4,
   "metadata": {},
   "outputs": [
    {
     "name": "stdout",
     "output_type": "stream",
     "text": [
      "{\n",
      "  \"args\": {\n",
      "    \"key1\": \"100\", \n",
      "    \"key2\": \"value2\"\n",
      "  }, \n",
      "  \"headers\": {\n",
      "    \"Accept\": \"*/*\", \n",
      "    \"Accept-Encoding\": \"gzip, deflate, br\", \n",
      "    \"Host\": \"httpbin.org\", \n",
      "    \"User-Agent\": \"python-requests/2.26.0\", \n",
      "    \"X-Amzn-Trace-Id\": \"Root=1-64ee8a43-6ff3eb292fb220843f0c12da\"\n",
      "  }, \n",
      "  \"origin\": \"218.164.152.206\", \n",
      "  \"url\": \"http://httpbin.org/get?key1=100&key2=value2\"\n",
      "}\n",
      "\n"
     ]
    }
   ],
   "source": [
    "import requests\n",
    "# 將查詢參數定義為字典資料加入GET請求中\n",
    "payload = {'key1': 100, 'key2': 'value2'} #字典(value為數字，一樣當成字串)\n",
    "html = requests.get(\"http://httpbin.org/get\", params=payload)  #測試網址http://httpbin.org/get\n",
    "print(html.text)"
   ]
  },
  {
   "cell_type": "code",
   "execution_count": 5,
   "metadata": {},
   "outputs": [
    {
     "name": "stdout",
     "output_type": "stream",
     "text": [
      "{\n",
      "  \"args\": {\n",
      "    \"key1\": \"value1\", \n",
      "    \"key2\": \"value2\"\n",
      "  }, \n",
      "  \"headers\": {\n",
      "    \"Accept\": \"*/*\", \n",
      "    \"Accept-Encoding\": \"gzip, deflate, br\", \n",
      "    \"Host\": \"httpbin.org\", \n",
      "    \"User-Agent\": \"python-requests/2.26.0\", \n",
      "    \"X-Amzn-Trace-Id\": \"Root=1-64ee8ab8-5182b18352ef57a558abbb18\"\n",
      "  }, \n",
      "  \"origin\": \"218.164.152.206\", \n",
      "  \"url\": \"http://httpbin.org/get?key1=value1&key2=value2\"\n",
      "}\n",
      "\n"
     ]
    }
   ],
   "source": [
    "import requests\n",
    "# 使用URL方式，將查詢參數加入GET請求中\n",
    "html = requests.get(\"http://httpbin.org/get?key1=value1&key2=value2\")\n",
    "print(html.text)"
   ]
  },
  {
   "cell_type": "markdown",
   "metadata": {
    "id": "hSsOMyYPwINz"
   },
   "source": [
    "## 發送POST請求"
   ]
  },
  {
   "cell_type": "code",
   "execution_count": 6,
   "metadata": {
    "colab": {
     "base_uri": "https://localhost:8080/"
    },
    "id": "UtVDOS60v1PE",
    "outputId": "60ea514f-b5aa-484f-eaa9-6fb9d46f7f35"
   },
   "outputs": [
    {
     "name": "stdout",
     "output_type": "stream",
     "text": [
      "{\n",
      "  \"args\": {}, \n",
      "  \"data\": \"\", \n",
      "  \"files\": {}, \n",
      "  \"form\": {\n",
      "    \"key1\": \"value1\", \n",
      "    \"key2\": \"value2\"\n",
      "  }, \n",
      "  \"headers\": {\n",
      "    \"Accept\": \"*/*\", \n",
      "    \"Accept-Encoding\": \"gzip, deflate, br\", \n",
      "    \"Content-Length\": \"23\", \n",
      "    \"Content-Type\": \"application/x-www-form-urlencoded\", \n",
      "    \"Host\": \"httpbin.org\", \n",
      "    \"User-Agent\": \"python-requests/2.26.0\", \n",
      "    \"X-Amzn-Trace-Id\": \"Root=1-64ee8adf-6b9817e92982409f1125dc72\"\n",
      "  }, \n",
      "  \"json\": null, \n",
      "  \"origin\": \"218.164.152.206\", \n",
      "  \"url\": \"http://httpbin.org/post\"\n",
      "}\n",
      "\n"
     ]
    }
   ],
   "source": [
    "import requests\n",
    "# 將查詢參數加入 POST 請求中\n",
    "payload = {'key1': 'value1', 'key2': 'value2'}\n",
    "html = requests.post(\"http://httpbin.org/post\",\n",
    "                   data=payload)   #測試網址http://httpbin.org/post\n",
    "print(html.text)"
   ]
  },
  {
   "cell_type": "markdown",
   "metadata": {
    "id": "AJ3VO-8wwqu1"
   },
   "source": [
    "## 自訂HTTP Headers偽裝瀏覽器操作"
   ]
  },
  {
   "cell_type": "code",
   "execution_count": 7,
   "metadata": {
    "colab": {
     "base_uri": "https://localhost:8080/"
    },
    "id": "PhKrkAlM5b46",
    "outputId": "97c11b3e-b93b-4e22-f25e-62034380ed68"
   },
   "outputs": [
    {
     "name": "stdout",
     "output_type": "stream",
     "text": [
      "<Response [200]>\n"
     ]
    }
   ],
   "source": [
    "######不要執行(會停擺)######\n",
    "\n",
    "#利用Chrome瀏覽網址http://httpbin.org/get，取得user-agent\n",
    "#利用Chrome瀏覽http://www.ehappy.tw/demo.htm，開發人員工具(Ctrl+Shift+I)/Network/Headers，重整，從Request Headers，取得user-agent\n",
    "\n",
    "import requests\n",
    "url = 'https://irs.thsrc.com.tw/IMINT/'  #高鐵訂票網站\n",
    "# 自訂表頭\n",
    "headers = {'user-agent': 'Mozilla/5.0 (Windows NT 10.0; Win64; x64) AppleWebKit/537.36 (KHTML, like Gecko) Chrome/139.0.0.0 Safari/537.36'}\n",
    "# 將自訂表頭加入 GET 請求中\n",
    "html = requests.get(url, headers=headers)\n",
    "print(html)"
   ]
  },
  {
   "cell_type": "code",
   "execution_count": 7,
   "metadata": {},
   "outputs": [
    {
     "name": "stdout",
     "output_type": "stream",
     "text": [
      "{\n",
      "  \"args\": {\n",
      "    \"key1\": \"100\", \n",
      "    \"key2\": \"value2\"\n",
      "  }, \n",
      "  \"headers\": {\n",
      "    \"Accept\": \"*/*\", \n",
      "    \"Accept-Encoding\": \"gzip, deflate, br, zstd\", \n",
      "    \"Host\": \"httpbin.org\", \n",
      "    \"User-Agent\": \"Mozilla/5.0 (Windows NT 10.0; Win64; x64) AppleWebKit/537.36 (KHTML, like Gecko) Chrome/139.0.0.0 Safari/537.36\", \n",
      "    \"X-Amzn-Trace-Id\": \"Root=1-68c012e6-3f9e156a3d41bc973f836770\"\n",
      "  }, \n",
      "  \"origin\": \"1.173.57.196\", \n",
      "  \"url\": \"http://httpbin.org/get?key1=100&key2=value2\"\n",
      "}\n",
      "\n"
     ]
    }
   ],
   "source": [
    "# 自訂表頭 (user-agent)\n",
    "#利用Chrome瀏覽網址http://httpbin.org/get，取得user-agent\n",
    "\n",
    "import requests\n",
    "\n",
    "# 自訂表頭 (user-agent)\n",
    "headers = {'user-agent': 'Mozilla/5.0 (Windows NT 10.0; Win64; x64) AppleWebKit/537.36 (KHTML, like Gecko) Chrome/139.0.0.0 Safari/537.36'}\n",
    "payload = {'key1': 100, 'key2': 'value2'}\n",
    "r = requests.get(\"http://httpbin.org/get\", headers=headers, params=payload)\n",
    "print(r.text)"
   ]
  },
  {
   "cell_type": "code",
   "execution_count": 5,
   "metadata": {},
   "outputs": [
    {
     "name": "stdout",
     "output_type": "stream",
     "text": [
      "{\n",
      "  \"args\": {}, \n",
      "  \"data\": \"\", \n",
      "  \"files\": {}, \n",
      "  \"form\": {\n",
      "    \"key1\": \"100\", \n",
      "    \"key2\": \"value2\"\n",
      "  }, \n",
      "  \"headers\": {\n",
      "    \"Accept\": \"*/*\", \n",
      "    \"Accept-Encoding\": \"gzip, deflate, br, zstd\", \n",
      "    \"Content-Length\": \"20\", \n",
      "    \"Content-Type\": \"application/x-www-form-urlencoded\", \n",
      "    \"Host\": \"httpbin.org\", \n",
      "    \"User-Agent\": \"Mozilla/5.0 (Windows NT 10.0; Win64; x64) AppleWebKit/537.36 (KHTML, like Gecko) Chrome/139.0.0.0 Safari/537.36\", \n",
      "    \"X-Amzn-Trace-Id\": \"Root=1-68c01250-57d273117c18d9fe195c0667\"\n",
      "  }, \n",
      "  \"json\": null, \n",
      "  \"origin\": \"1.173.57.196\", \n",
      "  \"url\": \"http://httpbin.org/post\"\n",
      "}\n",
      "\n"
     ]
    }
   ],
   "source": [
    "# 自訂表頭 (user-agent)\n",
    "# 利用Chrome瀏覽http://www.ehappy.tw/demo.htm，開發人員工具(Ctrl+Shift+I)/Network/Headers，重整，從Request Headers，取得user-agent\n",
    "\n",
    "import requests\n",
    "\n",
    "# 自訂表頭 (user-agent)\n",
    "headers = {'user-agent': 'Mozilla/5.0 (Windows NT 10.0; Win64; x64) AppleWebKit/537.36 (KHTML, like Gecko) Chrome/139.0.0.0 Safari/537.36'}\n",
    "payload = {'key1': 100, 'key2': 'value2'}\n",
    "r = requests.post(\"http://httpbin.org/post\", headers=headers, data=payload)\n",
    "print(r.text)"
   ]
  },
  {
   "cell_type": "code",
   "execution_count": 12,
   "metadata": {},
   "outputs": [
    {
     "name": "stdout",
     "output_type": "stream",
     "text": [
      "{\n",
      "  \"user-agent\": \"Mozilla/5.0 (Windows NT 10.0; Win64; x64) AppleWebKit/537.36 (KHTML, like Gecko) Chrome/64.0.3282.186 Safari/537.36\"\n",
      "}\n",
      "\n"
     ]
    }
   ],
   "source": [
    "#測試網址http://httpbin.org/user-agent\n",
    "# 自訂表頭 (user-agent)\n",
    "\n",
    "headers={\n",
    "   'user-agent':'Mozilla/5.0 (Windows NT 10.0; Win64; x64) AppleWebKit/537.36 (KHTML, like Gecko) Chrome/64.0.3282.186 Safari/537.36'\n",
    "}\n",
    "\n",
    "r = requests.get(\"http://httpbin.org/user-agent\", headers=headers)  #測試網址http://httpbin.org/user-agent\n",
    "print(r.text)"
   ]
  },
  {
   "cell_type": "code",
   "execution_count": 14,
   "metadata": {},
   "outputs": [
    {
     "name": "stdout",
     "output_type": "stream",
     "text": [
      "{\n",
      "  \"user-agent\": \"python-requests/2.26.0\"\n",
      "}\n",
      "\n"
     ]
    }
   ],
   "source": [
    "#測試網址http://httpbin.org/user-agent\n",
    "# 無自訂表頭 (user-agent)\n",
    "\n",
    "r = requests.get(\"http://httpbin.org/user-agent\")  #測試網址http://httpbin.org/user-agent\n",
    "print(r.text)"
   ]
  },
  {
   "cell_type": "code",
   "execution_count": null,
   "metadata": {},
   "outputs": [],
   "source": [
    "######不要執行(會停擺)######\n",
    "\n",
    "# 無自訂表頭\n",
    "import requests\n",
    "url = 'https://irs.thsrc.com.tw/IMINT/'  #高鐵訂票網站\n",
    "\n",
    "# GET 請求中\n",
    "html = requests.get(url)\n",
    "print(html)"
   ]
  },
  {
   "cell_type": "code",
   "execution_count": 8,
   "metadata": {},
   "outputs": [
    {
     "name": "stdout",
     "output_type": "stream",
     "text": [
      "Timeout Error: HTTPSConnectionPool(host='irs.thsrc.com.tw', port=443): Read timed out. (read timeout=3)\n"
     ]
    }
   ],
   "source": [
    "#使用try except\n",
    "#https://stackoverflow.com/questions/16511337/correct-way-to-try-except-using-python-requests-module\n",
    "#Correct way to try/except using Python requests module\n",
    "\n",
    "#利用try except避免產生意外錯誤\n",
    "#無自訂表頭 (user-agent)，會產生timeout錯誤\n",
    "\n",
    "import requests\n",
    "url='https://irs.thsrc.com.tw/IMINT/'\n",
    "\n",
    "try:\n",
    "    r = requests.get(url,timeout=3)\n",
    "    r.raise_for_status()\n",
    "    print(r)\n",
    "except requests.exceptions.HTTPError as errh:\n",
    "    print (\"Http Error:\",errh)\n",
    "except requests.exceptions.ConnectionError as errc:\n",
    "    print (\"Error Connecting:\",errc)\n",
    "except requests.exceptions.Timeout as errt:\n",
    "    print (\"Timeout Error:\",errt)\n",
    "except requests.exceptions.RequestException as err:\n",
    "    print (\"OOps: Something Else\",err)"
   ]
  },
  {
   "cell_type": "code",
   "execution_count": 9,
   "metadata": {},
   "outputs": [
    {
     "name": "stdout",
     "output_type": "stream",
     "text": [
      "Timeout Error: HTTPSConnectionPool(host='irs.thsrc.com.tw', port=443): Read timed out. (read timeout=3)\n"
     ]
    }
   ],
   "source": [
    "#使用try except\n",
    "#https://stackoverflow.com/questions/16511337/correct-way-to-try-except-using-python-requests-module\n",
    "#Correct way to try/except using Python requests module\n",
    "\n",
    "\n",
    "# 自訂表頭 (user-agent)，會產生timeout錯誤\n",
    "\n",
    "import requests\n",
    "url = 'https://irs.thsrc.com.tw/IMINT/'  #高鐵訂票網站\n",
    "# 自訂表頭\n",
    "headers = {'user-agent': 'Mozilla/5.0 (Windows NT 10.0; Win64; x64) AppleWebKit/537.36 (KHTML, like Gecko) Chrome/139.0.0.0 Safari/537.36'}\n",
    "# 將自訂表頭加入 GET 請求中\n",
    "\n",
    "try:\n",
    "    r = requests.get(url, headers=headers,timeout=3)\n",
    "    r.raise_for_status()\n",
    "    print(r)\n",
    "except requests.exceptions.HTTPError as errh:\n",
    "    print (\"Http Error:\",errh)\n",
    "except requests.exceptions.ConnectionError as errc:\n",
    "    print (\"Error Connecting:\",errc)\n",
    "except requests.exceptions.Timeout as errt:\n",
    "    print (\"Timeout Error:\",errt)\n",
    "except requests.exceptions.RequestException as err:\n",
    "    print (\"OOps: Something Else\",err)"
   ]
  },
  {
   "cell_type": "code",
   "execution_count": 10,
   "metadata": {},
   "outputs": [
    {
     "name": "stdout",
     "output_type": "stream",
     "text": [
      "Http Error: 404 Client Error: Not Found for url: http://www.google.com/blahblah\n"
     ]
    }
   ],
   "source": [
    "#使用try except\n",
    "#https://stackoverflow.com/questions/16511337/correct-way-to-try-except-using-python-requests-module\n",
    "#Correct way to try/except using Python requests module\n",
    "\n",
    "#網頁不存在，產生錯誤\n",
    "\n",
    "import requests\n",
    "url='http://www.google.com/blahblah'   #網頁不存在\n",
    "\n",
    "try:\n",
    "    r = requests.get(url,timeout=3)\n",
    "    r.raise_for_status()                         #Http Error: 404不會視為例外，所以要raise\n",
    "except requests.exceptions.HTTPError as errh:\n",
    "    print (\"Http Error:\",errh)\n",
    "except requests.exceptions.ConnectionError as errc:\n",
    "    print (\"Error Connecting:\",errc)\n",
    "except requests.exceptions.Timeout as errt:\n",
    "    print (\"Timeout Error:\",errt)\n",
    "except requests.exceptions.RequestException as err:\n",
    "    print (\"OOps: Something Else\",err)"
   ]
  },
  {
   "cell_type": "code",
   "execution_count": null,
   "metadata": {},
   "outputs": [],
   "source": [
    "#使用try except\n",
    "#https://stackoverflow.com/questions/16511337/correct-way-to-try-except-using-python-requests-module\n",
    "#Correct way to try/except using Python requests module\n",
    "\n",
    "#網址(網站)不存在，產生錯誤\n",
    "\n",
    "import requests\n",
    "url='http://www.google123456.com/blahblah'   #網址(網站)不存在\n",
    "\n",
    "try:\n",
    "    r = requests.get(url,timeout=3)\n",
    "    r.raise_for_status()                         #Http Error: 404不會視為例外，所以要raise\n",
    "except requests.exceptions.HTTPError as errh:\n",
    "    print (\"Http Error:\",errh)\n",
    "except requests.exceptions.ConnectionError as errc:\n",
    "    print (\"Error Connecting:\",errc)\n",
    "except requests.exceptions.Timeout as errt:\n",
    "    print (\"Timeout Error:\",errt)\n",
    "except requests.exceptions.RequestException as err:\n",
    "    print (\"OOps: Something Else\",err)"
   ]
  },
  {
   "cell_type": "markdown",
   "metadata": {
    "id": "FLxTAMM-3Hvx"
   },
   "source": [
    "## 在requests請求時加入Cookie\n"
   ]
  },
  {
   "cell_type": "code",
   "execution_count": 18,
   "metadata": {},
   "outputs": [
    {
     "name": "stdout",
     "output_type": "stream",
     "text": [
      "{\n",
      "  \"cookies\": {\n",
      "    \"over18\": \"1\"\n",
      "  }\n",
      "}\n",
      "\n"
     ]
    }
   ],
   "source": [
    "# 設定cookies值的測試網址\n",
    "\n",
    "import requests\n",
    "\n",
    "# 設定cookies的值\n",
    "cookies = {'over18':'1'}\n",
    "r = requests.get(\"http://httpbin.org/cookies\", cookies=cookies)  #測試網址http://httpbin.org/cookies\n",
    "print(r.text)"
   ]
  },
  {
   "cell_type": "code",
   "execution_count": 19,
   "metadata": {},
   "outputs": [
    {
     "name": "stdout",
     "output_type": "stream",
     "text": [
      "{\n",
      "  \"args\": {}, \n",
      "  \"headers\": {\n",
      "    \"Accept\": \"*/*\", \n",
      "    \"Accept-Encoding\": \"gzip, deflate, br\", \n",
      "    \"Cookie\": \"over18=1\", \n",
      "    \"Host\": \"httpbin.org\", \n",
      "    \"User-Agent\": \"python-requests/2.26.0\", \n",
      "    \"X-Amzn-Trace-Id\": \"Root=1-64ee96be-2528c4ba78f275c33d5db57c\"\n",
      "  }, \n",
      "  \"origin\": \"218.164.152.206\", \n",
      "  \"url\": \"http://httpbin.org/get\"\n",
      "}\n",
      "\n"
     ]
    }
   ],
   "source": [
    "# 設定cookies值的測試\n",
    "\n",
    "import requests\n",
    "\n",
    "# 設定cookies的值\n",
    "cookies = {'over18':'1'}\n",
    "r = requests.get(\"http://httpbin.org/get\", cookies=cookies)  #測試網址http://httpbin.org/get\n",
    "print(r.text)"
   ]
  },
  {
   "cell_type": "code",
   "execution_count": 20,
   "metadata": {
    "id": "azxM8E2Pwrat"
   },
   "outputs": [
    {
     "name": "stdout",
     "output_type": "stream",
     "text": [
      "<!DOCTYPE html>\n",
      "<html>\n",
      "\t<head>\n",
      "\t\t<meta charset=\"utf-8\">\n",
      "\t\t\n",
      "\n",
      "<meta name=\"viewport\" content=\"width=device-width, initial-scale=1\">\n",
      "\n",
      "<title>看板 Gossiping 文章列表 - 批踢踢實業坊</title>\n",
      "\n",
      "<link rel=\"stylesheet\" type=\"text/css\" href=\"//images.ptt.cc/bbs/v2.27/bbs-common.css\">\n",
      "<link rel=\"stylesheet\" type=\"text/css\" href=\"//images.ptt.cc/bbs/v2.27/bbs-base.css\" media=\"screen\">\n",
      "<link rel=\"stylesheet\" type=\"text/css\" href=\"//images.ptt.cc/bbs/v2.27/bbs-custom.css\">\n",
      "<link rel=\"stylesheet\" type=\"text/css\" href=\"//images.ptt.cc/bbs/v2.27/pushstream.css\" media=\"screen\">\n",
      "<link rel=\"stylesheet\" type=\"text/css\" href=\"//images.ptt.cc/bbs/v2.27/bbs-print.css\" media=\"print\">\n",
      "\n",
      "\n",
      "\n",
      "\n",
      "\t</head>\n",
      "    <body>\n",
      "\t\t\n",
      "<div id=\"topbar-container\">\n",
      "\t<div id=\"topbar\" class=\"bbs-content\">\n",
      "\t\t<a id=\"logo\" href=\"/bbs/\">批踢踢實業坊</a>\n",
      "\t\t<span>&rsaquo;</span>\n",
      "\t\t<a class=\"board\" href=\"/bbs/Gossiping/index.html\"><span class=\"board-label\">看板 </span>Gossiping</a>\n",
      "\t\t<a class=\"right small\" href=\"/about.html\">關於我們</a>\n",
      "\t\t<a class=\"right small\" href=\"/contact.html\">聯絡資訊</a>\n",
      "\t</div>\n",
      "</div>\n",
      "\n",
      "<div id=\"main-container\">\n",
      "\t<div id=\"action-bar-container\">\n",
      "\t\t<div class=\"action-bar\">\n",
      "\t\t\t<div class=\"btn-group btn-group-dir\">\n",
      "\t\t\t\t<a class=\"btn selected\" href=\"/bbs/Gossiping/index.html\">看板</a>\n",
      "\t\t\t\t<a class=\"btn\" href=\"/man/Gossiping/index.html\">精華區</a>\n",
      "\t\t\t</div>\n",
      "\t\t\t<div class=\"btn-group btn-group-paging\">\n",
      "\t\t\t\t<a class=\"btn wide\" href=\"/bbs/Gossiping/index1.html\">最舊</a>\n",
      "\t\t\t\t<a class=\"btn wide\" href=\"/bbs/Gossiping/index39101.html\">&lsaquo; 上頁</a>\n",
      "\t\t\t\t<a class=\"btn wide disabled\">下頁 &rsaquo;</a>\n",
      "\t\t\t\t<a class=\"btn wide\" href=\"/bbs/Gossiping/index.html\">最新</a>\n",
      "\t\t\t</div>\n",
      "\t\t</div>\n",
      "\t</div>\n",
      "\n",
      "\t<div class=\"r-list-container action-bar-margin bbs-screen\">\n",
      "\t\t<div class=\"search-bar\">\n",
      "\t\t\t<form type=\"get\" action=\"search\" id=\"search-bar\">\n",
      "\t\t\t\t<input class=\"query\" type=\"text\" name=\"q\" value=\"\" placeholder=\"搜尋文章&#x22ef;\">\n",
      "\t\t\t</form>\n",
      "\t\t</div>\n",
      "\n",
      "\t\t\n",
      "\t\t\n",
      "            \n",
      "        \n",
      "        \n",
      "\t\t<div class=\"r-ent\">\n",
      "\t\t\t<div class=\"nrec\"><span class=\"hl f2\">7</span></div>\n",
      "\t\t\t<div class=\"title\">\n",
      "\t\t\t\n",
      "\t\t\t\t<a href=\"/bbs/Gossiping/M.1693356628.A.BD0.html\">Re: [問卦] 政黑打臉鄉民：資本50萬拿上億補助真相</a>\n",
      "\t\t\t\n",
      "\t\t\t</div>\n",
      "\t\t\t<div class=\"meta\">\n",
      "\t\t\t\t<div class=\"author\">AZTEC</div>\n",
      "\t\t\t\t<div class=\"article-menu\">\n",
      "\t\t\t\t\t\n",
      "\t\t\t\t\t<div class=\"trigger\">&#x22ef;</div>\n",
      "\t\t\t\t\t<div class=\"dropdown\">\n",
      "\t\t\t\t\t\t<div class=\"item\"><a href=\"/bbs/Gossiping/search?q=thread%3A%5B%E5%95%8F%E5%8D%A6%5D&#43;%E6%94%BF%E9%BB%91%E6%89%93%E8%87%89%E9%84%89%E6%B0%91%EF%BC%9A%E8%B3%87%E6%9C%AC50%E8%90%AC%E6%8B%BF%E4%B8%8A%E5%84%84%E8%A3%9C%E5%8A%A9%E7%9C%9F%E7%9B%B8\">搜尋同標題文章</a></div>\n",
      "\t\t\t\t\t\t\n",
      "\t\t\t\t\t\t<div class=\"item\"><a href=\"/bbs/Gossiping/search?q=author%3AAZTEC\">搜尋看板內 AZTEC 的文章</a></div>\n",
      "\t\t\t\t\t\t\n",
      "\t\t\t\t\t</div>\n",
      "\t\t\t\t\t\n",
      "\t\t\t\t</div>\n",
      "\t\t\t\t<div class=\"date\"> 8/30</div>\n",
      "\t\t\t\t<div class=\"mark\"></div>\n",
      "\t\t\t</div>\n",
      "\t\t</div>\n",
      "\n",
      "\t\t\n",
      "            \n",
      "        \n",
      "        \n",
      "\t\t<div class=\"r-ent\">\n",
      "\t\t\t<div class=\"nrec\"><span class=\"hl f3\">13</span></div>\n",
      "\t\t\t<div class=\"title\">\n",
      "\t\t\t\n",
      "\t\t\t\t<a href=\"/bbs/Gossiping/M.1693356668.A.606.html\">[問卦] 召喚師.法師.劍士.商人 哪個職業較猛</a>\n",
      "\t\t\t\n",
      "\t\t\t</div>\n",
      "\t\t\t<div class=\"meta\">\n",
      "\t\t\t\t<div class=\"author\">alivereason</div>\n",
      "\t\t\t\t<div class=\"article-menu\">\n",
      "\t\t\t\t\t\n",
      "\t\t\t\t\t<div class=\"trigger\">&#x22ef;</div>\n",
      "\t\t\t\t\t<div class=\"dropdown\">\n",
      "\t\t\t\t\t\t<div class=\"item\"><a href=\"/bbs/Gossiping/search?q=thread%3A%5B%E5%95%8F%E5%8D%A6%5D&#43;%E5%8F%AC%E5%96%9A%E5%B8%AB.%E6%B3%95%E5%B8%AB.%E5%8A%8D%E5%A3%AB.%E5%95%86%E4%BA%BA&#43;%E5%93%AA%E5%80%8B%E8%81%B7%E6%A5%AD%E8%BC%83%E7%8C%9B\">搜尋同標題文章</a></div>\n",
      "\t\t\t\t\t\t\n",
      "\t\t\t\t\t\t<div class=\"item\"><a href=\"/bbs/Gossiping/search?q=author%3Aalivereason\">搜尋看板內 alivereason 的文章</a></div>\n",
      "\t\t\t\t\t\t\n",
      "\t\t\t\t\t</div>\n",
      "\t\t\t\t\t\n",
      "\t\t\t\t</div>\n",
      "\t\t\t\t<div class=\"date\"> 8/30</div>\n",
      "\t\t\t\t<div class=\"mark\"></div>\n",
      "\t\t\t</div>\n",
      "\t\t</div>\n",
      "\n",
      "\t\t\n",
      "            \n",
      "        \n",
      "        \n",
      "\t\t<div class=\"r-ent\">\n",
      "\t\t\t<div class=\"nrec\"><span class=\"hl f2\">5</span></div>\n",
      "\t\t\t<div class=\"title\">\n",
      "\t\t\t\n",
      "\t\t\t\t<a href=\"/bbs/Gossiping/M.1693356693.A.413.html\">[問卦] 長得有國際觀是怎樣？</a>\n",
      "\t\t\t\n",
      "\t\t\t</div>\n",
      "\t\t\t<div class=\"meta\">\n",
      "\t\t\t\t<div class=\"author\">popo1234</div>\n",
      "\t\t\t\t<div class=\"article-menu\">\n",
      "\t\t\t\t\t\n",
      "\t\t\t\t\t<div class=\"trigger\">&#x22ef;</div>\n",
      "\t\t\t\t\t<div class=\"dropdown\">\n",
      "\t\t\t\t\t\t<div class=\"item\"><a href=\"/bbs/Gossiping/search?q=thread%3A%5B%E5%95%8F%E5%8D%A6%5D&#43;%E9%95%B7%E5%BE%97%E6%9C%89%E5%9C%8B%E9%9A%9B%E8%A7%80%E6%98%AF%E6%80%8E%E6%A8%A3%EF%BC%9F\">搜尋同標題文章</a></div>\n",
      "\t\t\t\t\t\t\n",
      "\t\t\t\t\t\t<div class=\"item\"><a href=\"/bbs/Gossiping/search?q=author%3Apopo1234\">搜尋看板內 popo1234 的文章</a></div>\n",
      "\t\t\t\t\t\t\n",
      "\t\t\t\t\t</div>\n",
      "\t\t\t\t\t\n",
      "\t\t\t\t</div>\n",
      "\t\t\t\t<div class=\"date\"> 8/30</div>\n",
      "\t\t\t\t<div class=\"mark\"></div>\n",
      "\t\t\t</div>\n",
      "\t\t</div>\n",
      "\n",
      "\t\t\n",
      "            \n",
      "        \n",
      "        \n",
      "\t\t<div class=\"r-ent\">\n",
      "\t\t\t<div class=\"nrec\"><span class=\"hl f2\">4</span></div>\n",
      "\t\t\t<div class=\"title\">\n",
      "\t\t\t\n",
      "\t\t\t\t<a href=\"/bbs/Gossiping/M.1693356751.A.BFF.html\">Re: [問卦] 第一次去日本沒排去神社很怪嗎</a>\n",
      "\t\t\t\n",
      "\t\t\t</div>\n",
      "\t\t\t<div class=\"meta\">\n",
      "\t\t\t\t<div class=\"author\">taeyeon56</div>\n",
      "\t\t\t\t<div class=\"article-menu\">\n",
      "\t\t\t\t\t\n",
      "\t\t\t\t\t<div class=\"trigger\">&#x22ef;</div>\n",
      "\t\t\t\t\t<div class=\"dropdown\">\n",
      "\t\t\t\t\t\t<div class=\"item\"><a href=\"/bbs/Gossiping/search?q=thread%3A%5B%E5%95%8F%E5%8D%A6%5D&#43;%E7%AC%AC%E4%B8%80%E6%AC%A1%E5%8E%BB%E6%97%A5%E6%9C%AC%E6%B2%92%E6%8E%92%E5%8E%BB%E7%A5%9E%E7%A4%BE%E5%BE%88%E6%80%AA%E5%97%8E\">搜尋同標題文章</a></div>\n",
      "\t\t\t\t\t\t\n",
      "\t\t\t\t\t\t<div class=\"item\"><a href=\"/bbs/Gossiping/search?q=author%3Ataeyeon56\">搜尋看板內 taeyeon56 的文章</a></div>\n",
      "\t\t\t\t\t\t\n",
      "\t\t\t\t\t</div>\n",
      "\t\t\t\t\t\n",
      "\t\t\t\t</div>\n",
      "\t\t\t\t<div class=\"date\"> 8/30</div>\n",
      "\t\t\t\t<div class=\"mark\"></div>\n",
      "\t\t\t</div>\n",
      "\t\t</div>\n",
      "\n",
      "\t\t\n",
      "            \n",
      "        \n",
      "        \n",
      "\t\t<div class=\"r-ent\">\n",
      "\t\t\t<div class=\"nrec\"><span class=\"hl f2\">5</span></div>\n",
      "\t\t\t<div class=\"title\">\n",
      "\t\t\t\n",
      "\t\t\t\t<a href=\"/bbs/Gossiping/M.1693356859.A.C28.html\">[問卦] 31處男到台北不適應多久後可以回家的八</a>\n",
      "\t\t\t\n",
      "\t\t\t</div>\n",
      "\t\t\t<div class=\"meta\">\n",
      "\t\t\t\t<div class=\"author\">aabbcc520</div>\n",
      "\t\t\t\t<div class=\"article-menu\">\n",
      "\t\t\t\t\t\n",
      "\t\t\t\t\t<div class=\"trigger\">&#x22ef;</div>\n",
      "\t\t\t\t\t<div class=\"dropdown\">\n",
      "\t\t\t\t\t\t<div class=\"item\"><a href=\"/bbs/Gossiping/search?q=thread%3A%5B%E5%95%8F%E5%8D%A6%5D&#43;31%E8%99%95%E7%94%B7%E5%88%B0%E5%8F%B0%E5%8C%97%E4%B8%8D%E9%81%A9%E6%87%89%E5%A4%9A%E4%B9%85%E5%BE%8C%E5%8F%AF%E4%BB%A5%E5%9B%9E%E5%AE%B6%E7%9A%84%E5%85%AB\">搜尋同標題文章</a></div>\n",
      "\t\t\t\t\t\t\n",
      "\t\t\t\t\t\t<div class=\"item\"><a href=\"/bbs/Gossiping/search?q=author%3Aaabbcc520\">搜尋看板內 aabbcc520 的文章</a></div>\n",
      "\t\t\t\t\t\t\n",
      "\t\t\t\t\t</div>\n",
      "\t\t\t\t\t\n",
      "\t\t\t\t</div>\n",
      "\t\t\t\t<div class=\"date\"> 8/30</div>\n",
      "\t\t\t\t<div class=\"mark\"></div>\n",
      "\t\t\t</div>\n",
      "\t\t</div>\n",
      "\n",
      "\t\t\n",
      "            \n",
      "        \n",
      "        \n",
      "\t\t<div class=\"r-ent\">\n",
      "\t\t\t<div class=\"nrec\"></div>\n",
      "\t\t\t<div class=\"title\">\n",
      "\t\t\t\n",
      "\t\t\t\t<a href=\"/bbs/Gossiping/M.1693356985.A.231.html\">Re: [問卦] 佛教徒放大絕 批評出家人會下地獄？</a>\n",
      "\t\t\t\n",
      "\t\t\t</div>\n",
      "\t\t\t<div class=\"meta\">\n",
      "\t\t\t\t<div class=\"author\">andre9</div>\n",
      "\t\t\t\t<div class=\"article-menu\">\n",
      "\t\t\t\t\t\n",
      "\t\t\t\t\t<div class=\"trigger\">&#x22ef;</div>\n",
      "\t\t\t\t\t<div class=\"dropdown\">\n",
      "\t\t\t\t\t\t<div class=\"item\"><a href=\"/bbs/Gossiping/search?q=thread%3A%5B%E5%95%8F%E5%8D%A6%5D&#43;%E4%BD%9B%E6%95%99%E5%BE%92%E6%94%BE%E5%A4%A7%E7%B5%95&#43;%E6%89%B9%E8%A9%95%E5%87%BA%E5%AE%B6%E4%BA%BA%E6%9C%83%E4%B8%8B%E5%9C%B0%E7%8D%84%EF%BC%9F\">搜尋同標題文章</a></div>\n",
      "\t\t\t\t\t\t\n",
      "\t\t\t\t\t\t<div class=\"item\"><a href=\"/bbs/Gossiping/search?q=author%3Aandre9\">搜尋看板內 andre9 的文章</a></div>\n",
      "\t\t\t\t\t\t\n",
      "\t\t\t\t\t</div>\n",
      "\t\t\t\t\t\n",
      "\t\t\t\t</div>\n",
      "\t\t\t\t<div class=\"date\"> 8/30</div>\n",
      "\t\t\t\t<div class=\"mark\"></div>\n",
      "\t\t\t</div>\n",
      "\t\t</div>\n",
      "\n",
      "\t\t\n",
      "            \n",
      "        \n",
      "        \n",
      "\t\t<div class=\"r-ent\">\n",
      "\t\t\t<div class=\"nrec\"><span class=\"hl f2\">3</span></div>\n",
      "\t\t\t<div class=\"title\">\n",
      "\t\t\t\n",
      "\t\t\t\t<a href=\"/bbs/Gossiping/M.1693357072.A.3E4.html\">[問卦] 5菜1湯550是不是打臉台灣海鮮很便宜</a>\n",
      "\t\t\t\n",
      "\t\t\t</div>\n",
      "\t\t\t<div class=\"meta\">\n",
      "\t\t\t\t<div class=\"author\">med5566</div>\n",
      "\t\t\t\t<div class=\"article-menu\">\n",
      "\t\t\t\t\t\n",
      "\t\t\t\t\t<div class=\"trigger\">&#x22ef;</div>\n",
      "\t\t\t\t\t<div class=\"dropdown\">\n",
      "\t\t\t\t\t\t<div class=\"item\"><a href=\"/bbs/Gossiping/search?q=thread%3A%5B%E5%95%8F%E5%8D%A6%5D&#43;5%E8%8F%9C1%E6%B9%AF550%E6%98%AF%E4%B8%8D%E6%98%AF%E6%89%93%E8%87%89%E5%8F%B0%E7%81%A3%E6%B5%B7%E9%AE%AE%E5%BE%88%E4%BE%BF%E5%AE%9C\">搜尋同標題文章</a></div>\n",
      "\t\t\t\t\t\t\n",
      "\t\t\t\t\t\t<div class=\"item\"><a href=\"/bbs/Gossiping/search?q=author%3Amed5566\">搜尋看板內 med5566 的文章</a></div>\n",
      "\t\t\t\t\t\t\n",
      "\t\t\t\t\t</div>\n",
      "\t\t\t\t\t\n",
      "\t\t\t\t</div>\n",
      "\t\t\t\t<div class=\"date\"> 8/30</div>\n",
      "\t\t\t\t<div class=\"mark\"></div>\n",
      "\t\t\t</div>\n",
      "\t\t</div>\n",
      "\n",
      "\t\t\n",
      "            \n",
      "        \n",
      "        \n",
      "\t\t<div class=\"r-ent\">\n",
      "\t\t\t<div class=\"nrec\"><span class=\"hl f2\">3</span></div>\n",
      "\t\t\t<div class=\"title\">\n",
      "\t\t\t\n",
      "\t\t\t\t<a href=\"/bbs/Gossiping/M.1693357090.A.F29.html\">[新聞] Z世代「低忠誠度、高流動率」　職場生</a>\n",
      "\t\t\t\n",
      "\t\t\t</div>\n",
      "\t\t\t<div class=\"meta\">\n",
      "\t\t\t\t<div class=\"author\">b8103033</div>\n",
      "\t\t\t\t<div class=\"article-menu\">\n",
      "\t\t\t\t\t\n",
      "\t\t\t\t\t<div class=\"trigger\">&#x22ef;</div>\n",
      "\t\t\t\t\t<div class=\"dropdown\">\n",
      "\t\t\t\t\t\t<div class=\"item\"><a href=\"/bbs/Gossiping/search?q=thread%3A%5B%E6%96%B0%E8%81%9E%5D&#43;Z%E4%B8%96%E4%BB%A3%E3%80%8C%E4%BD%8E%E5%BF%A0%E8%AA%A0%E5%BA%A6%E3%80%81%E9%AB%98%E6%B5%81%E5%8B%95%E7%8E%87%E3%80%8D%E3%80%80%E8%81%B7%E5%A0%B4%E7%94%9F\">搜尋同標題文章</a></div>\n",
      "\t\t\t\t\t\t\n",
      "\t\t\t\t\t\t<div class=\"item\"><a href=\"/bbs/Gossiping/search?q=author%3Ab8103033\">搜尋看板內 b8103033 的文章</a></div>\n",
      "\t\t\t\t\t\t\n",
      "\t\t\t\t\t</div>\n",
      "\t\t\t\t\t\n",
      "\t\t\t\t</div>\n",
      "\t\t\t\t<div class=\"date\"> 8/30</div>\n",
      "\t\t\t\t<div class=\"mark\"></div>\n",
      "\t\t\t</div>\n",
      "\t\t</div>\n",
      "\n",
      "\t\t\n",
      "            \n",
      "        \n",
      "        \n",
      "\t\t<div class=\"r-ent\">\n",
      "\t\t\t<div class=\"nrec\"><span class=\"hl f0\">X1</span></div>\n",
      "\t\t\t<div class=\"title\">\n",
      "\t\t\t\n",
      "\t\t\t\t<a href=\"/bbs/Gossiping/M.1693357115.A.332.html\">[問卦] 蔡阿嘎狂掃日超商 展現驚人財力</a>\n",
      "\t\t\t\n",
      "\t\t\t</div>\n",
      "\t\t\t<div class=\"meta\">\n",
      "\t\t\t\t<div class=\"author\">dragonmester</div>\n",
      "\t\t\t\t<div class=\"article-menu\">\n",
      "\t\t\t\t\t\n",
      "\t\t\t\t\t<div class=\"trigger\">&#x22ef;</div>\n",
      "\t\t\t\t\t<div class=\"dropdown\">\n",
      "\t\t\t\t\t\t<div class=\"item\"><a href=\"/bbs/Gossiping/search?q=thread%3A%5B%E5%95%8F%E5%8D%A6%5D&#43;%E8%94%A1%E9%98%BF%E5%98%8E%E7%8B%82%E6%8E%83%E6%97%A5%E8%B6%85%E5%95%86&#43;%E5%B1%95%E7%8F%BE%E9%A9%9A%E4%BA%BA%E8%B2%A1%E5%8A%9B\">搜尋同標題文章</a></div>\n",
      "\t\t\t\t\t\t\n",
      "\t\t\t\t\t\t<div class=\"item\"><a href=\"/bbs/Gossiping/search?q=author%3Adragonmester\">搜尋看板內 dragonmester 的文章</a></div>\n",
      "\t\t\t\t\t\t\n",
      "\t\t\t\t\t</div>\n",
      "\t\t\t\t\t\n",
      "\t\t\t\t</div>\n",
      "\t\t\t\t<div class=\"date\"> 8/30</div>\n",
      "\t\t\t\t<div class=\"mark\"></div>\n",
      "\t\t\t</div>\n",
      "\t\t</div>\n",
      "\n",
      "\t\t\n",
      "            \n",
      "        \n",
      "        \n",
      "\t\t<div class=\"r-ent\">\n",
      "\t\t\t<div class=\"nrec\"><span class=\"hl f2\">1</span></div>\n",
      "\t\t\t<div class=\"title\">\n",
      "\t\t\t\n",
      "\t\t\t\t<a href=\"/bbs/Gossiping/M.1693357288.A.FC2.html\">[新聞] 連勝文稱三個星期前受朱立倫指派與郭台銘談整合 被要求</a>\n",
      "\t\t\t\n",
      "\t\t\t</div>\n",
      "\t\t\t<div class=\"meta\">\n",
      "\t\t\t\t<div class=\"author\">MacBookAir12</div>\n",
      "\t\t\t\t<div class=\"article-menu\">\n",
      "\t\t\t\t\t\n",
      "\t\t\t\t\t<div class=\"trigger\">&#x22ef;</div>\n",
      "\t\t\t\t\t<div class=\"dropdown\">\n",
      "\t\t\t\t\t\t<div class=\"item\"><a href=\"/bbs/Gossiping/search?q=thread%3A%5B%E6%96%B0%E8%81%9E%5D&#43;%E9%80%A3%E5%8B%9D%E6%96%87%E7%A8%B1%E4%B8%89%E5%80%8B%E6%98%9F%E6%9C%9F%E5%89%8D%E5%8F%97%E6%9C%B1%E7%AB%8B%E5%80%AB%E6%8C%87%E6%B4%BE%E8%88%87%E9%83%AD%E5%8F%B0%E9%8A%98%E8%AB%87%E6%95%B4%E5%90%88&#43;%E8%A2%AB%E8%A6%81%E6%B1%82\">搜尋同標題文章</a></div>\n",
      "\t\t\t\t\t\t\n",
      "\t\t\t\t\t\t<div class=\"item\"><a href=\"/bbs/Gossiping/search?q=author%3AMacBookAir12\">搜尋看板內 MacBookAir12 的文章</a></div>\n",
      "\t\t\t\t\t\t\n",
      "\t\t\t\t\t</div>\n",
      "\t\t\t\t\t\n",
      "\t\t\t\t</div>\n",
      "\t\t\t\t<div class=\"date\"> 8/30</div>\n",
      "\t\t\t\t<div class=\"mark\"></div>\n",
      "\t\t\t</div>\n",
      "\t\t</div>\n",
      "\n",
      "\t\t\n",
      "            \n",
      "        \n",
      "        \n",
      "\t\t<div class=\"r-ent\">\n",
      "\t\t\t<div class=\"nrec\"><span class=\"hl f2\">3</span></div>\n",
      "\t\t\t<div class=\"title\">\n",
      "\t\t\t\n",
      "\t\t\t\t<a href=\"/bbs/Gossiping/M.1693357297.A.EF7.html\">Re: [新聞] 薪水太少！學校鬧「代理老師荒」　數學、體育師代打教</a>\n",
      "\t\t\t\n",
      "\t\t\t</div>\n",
      "\t\t\t<div class=\"meta\">\n",
      "\t\t\t\t<div class=\"author\">SAINTPAN</div>\n",
      "\t\t\t\t<div class=\"article-menu\">\n",
      "\t\t\t\t\t\n",
      "\t\t\t\t\t<div class=\"trigger\">&#x22ef;</div>\n",
      "\t\t\t\t\t<div class=\"dropdown\">\n",
      "\t\t\t\t\t\t<div class=\"item\"><a href=\"/bbs/Gossiping/search?q=thread%3A%5B%E6%96%B0%E8%81%9E%5D&#43;%E8%96%AA%E6%B0%B4%E5%A4%AA%E5%B0%91%EF%BC%81%E5%AD%B8%E6%A0%A1%E9%AC%A7%E3%80%8C%E4%BB%A3%E7%90%86%E8%80%81%E5%B8%AB%E8%8D%92%E3%80%8D%E3%80%80%E6%95%B8%E5%AD%B8%E3%80%81%E9%AB%94%E8%82%B2%E5%B8%AB%E4%BB%A3%E6%89%93%E6%95%99\">搜尋同標題文章</a></div>\n",
      "\t\t\t\t\t\t\n",
      "\t\t\t\t\t\t<div class=\"item\"><a href=\"/bbs/Gossiping/search?q=author%3ASAINTPAN\">搜尋看板內 SAINTPAN 的文章</a></div>\n",
      "\t\t\t\t\t\t\n",
      "\t\t\t\t\t</div>\n",
      "\t\t\t\t\t\n",
      "\t\t\t\t</div>\n",
      "\t\t\t\t<div class=\"date\"> 8/30</div>\n",
      "\t\t\t\t<div class=\"mark\"></div>\n",
      "\t\t\t</div>\n",
      "\t\t</div>\n",
      "\n",
      "\t\t\n",
      "            \n",
      "        \n",
      "        \n",
      "\t\t<div class=\"r-ent\">\n",
      "\t\t\t<div class=\"nrec\"><span class=\"hl f2\">2</span></div>\n",
      "\t\t\t<div class=\"title\">\n",
      "\t\t\t\n",
      "\t\t\t\t<a href=\"/bbs/Gossiping/M.1693357305.A.D0B.html\">[問卦] 什麼東西不是一分錢一分貨？</a>\n",
      "\t\t\t\n",
      "\t\t\t</div>\n",
      "\t\t\t<div class=\"meta\">\n",
      "\t\t\t\t<div class=\"author\">MiCy</div>\n",
      "\t\t\t\t<div class=\"article-menu\">\n",
      "\t\t\t\t\t\n",
      "\t\t\t\t\t<div class=\"trigger\">&#x22ef;</div>\n",
      "\t\t\t\t\t<div class=\"dropdown\">\n",
      "\t\t\t\t\t\t<div class=\"item\"><a href=\"/bbs/Gossiping/search?q=thread%3A%5B%E5%95%8F%E5%8D%A6%5D&#43;%E4%BB%80%E9%BA%BC%E6%9D%B1%E8%A5%BF%E4%B8%8D%E6%98%AF%E4%B8%80%E5%88%86%E9%8C%A2%E4%B8%80%E5%88%86%E8%B2%A8%EF%BC%9F\">搜尋同標題文章</a></div>\n",
      "\t\t\t\t\t\t\n",
      "\t\t\t\t\t\t<div class=\"item\"><a href=\"/bbs/Gossiping/search?q=author%3AMiCy\">搜尋看板內 MiCy 的文章</a></div>\n",
      "\t\t\t\t\t\t\n",
      "\t\t\t\t\t</div>\n",
      "\t\t\t\t\t\n",
      "\t\t\t\t</div>\n",
      "\t\t\t\t<div class=\"date\"> 8/30</div>\n",
      "\t\t\t\t<div class=\"mark\"></div>\n",
      "\t\t\t</div>\n",
      "\t\t</div>\n",
      "\n",
      "\t\t\n",
      "            \n",
      "        \n",
      "        \n",
      "\t\t<div class=\"r-ent\">\n",
      "\t\t\t<div class=\"nrec\"></div>\n",
      "\t\t\t<div class=\"title\">\n",
      "\t\t\t\n",
      "\t\t\t\t<a href=\"/bbs/Gossiping/M.1693357312.A.BCF.html\">[問卦] 國民年金要不要廢掉呀？</a>\n",
      "\t\t\t\n",
      "\t\t\t</div>\n",
      "\t\t\t<div class=\"meta\">\n",
      "\t\t\t\t<div class=\"author\">mucorn</div>\n",
      "\t\t\t\t<div class=\"article-menu\">\n",
      "\t\t\t\t\t\n",
      "\t\t\t\t\t<div class=\"trigger\">&#x22ef;</div>\n",
      "\t\t\t\t\t<div class=\"dropdown\">\n",
      "\t\t\t\t\t\t<div class=\"item\"><a href=\"/bbs/Gossiping/search?q=thread%3A%5B%E5%95%8F%E5%8D%A6%5D&#43;%E5%9C%8B%E6%B0%91%E5%B9%B4%E9%87%91%E8%A6%81%E4%B8%8D%E8%A6%81%E5%BB%A2%E6%8E%89%E5%91%80%EF%BC%9F\">搜尋同標題文章</a></div>\n",
      "\t\t\t\t\t\t\n",
      "\t\t\t\t\t\t<div class=\"item\"><a href=\"/bbs/Gossiping/search?q=author%3Amucorn\">搜尋看板內 mucorn 的文章</a></div>\n",
      "\t\t\t\t\t\t\n",
      "\t\t\t\t\t</div>\n",
      "\t\t\t\t\t\n",
      "\t\t\t\t</div>\n",
      "\t\t\t\t<div class=\"date\"> 8/30</div>\n",
      "\t\t\t\t<div class=\"mark\"></div>\n",
      "\t\t\t</div>\n",
      "\t\t</div>\n",
      "\n",
      "\t\t\n",
      "            \n",
      "        \n",
      "        \n",
      "\t\t<div class=\"r-ent\">\n",
      "\t\t\t<div class=\"nrec\"><span class=\"hl f3\">10</span></div>\n",
      "\t\t\t<div class=\"title\">\n",
      "\t\t\t\n",
      "\t\t\t\t<a href=\"/bbs/Gossiping/M.1693357337.A.75F.html\">[新聞] 再向柯喊話！郭台銘：希望有機會能再一起</a>\n",
      "\t\t\t\n",
      "\t\t\t</div>\n",
      "\t\t\t<div class=\"meta\">\n",
      "\t\t\t\t<div class=\"author\">jeff0025</div>\n",
      "\t\t\t\t<div class=\"article-menu\">\n",
      "\t\t\t\t\t\n",
      "\t\t\t\t\t<div class=\"trigger\">&#x22ef;</div>\n",
      "\t\t\t\t\t<div class=\"dropdown\">\n",
      "\t\t\t\t\t\t<div class=\"item\"><a href=\"/bbs/Gossiping/search?q=thread%3A%5B%E6%96%B0%E8%81%9E%5D&#43;%E5%86%8D%E5%90%91%E6%9F%AF%E5%96%8A%E8%A9%B1%EF%BC%81%E9%83%AD%E5%8F%B0%E9%8A%98%EF%BC%9A%E5%B8%8C%E6%9C%9B%E6%9C%89%E6%A9%9F%E6%9C%83%E8%83%BD%E5%86%8D%E4%B8%80%E8%B5%B7\">搜尋同標題文章</a></div>\n",
      "\t\t\t\t\t\t\n",
      "\t\t\t\t\t\t<div class=\"item\"><a href=\"/bbs/Gossiping/search?q=author%3Ajeff0025\">搜尋看板內 jeff0025 的文章</a></div>\n",
      "\t\t\t\t\t\t\n",
      "\t\t\t\t\t</div>\n",
      "\t\t\t\t\t\n",
      "\t\t\t\t</div>\n",
      "\t\t\t\t<div class=\"date\"> 8/30</div>\n",
      "\t\t\t\t<div class=\"mark\"></div>\n",
      "\t\t\t</div>\n",
      "\t\t</div>\n",
      "\n",
      "\t\t\n",
      "            \n",
      "        \n",
      "        \n",
      "\t\t<div class=\"r-ent\">\n",
      "\t\t\t<div class=\"nrec\"><span class=\"hl f2\">6</span></div>\n",
      "\t\t\t<div class=\"title\">\n",
      "\t\t\t\n",
      "\t\t\t\t<a href=\"/bbs/Gossiping/M.1693357379.A.D3B.html\">[問卦] 創業做政府標案是不是成功率比較高？</a>\n",
      "\t\t\t\n",
      "\t\t\t</div>\n",
      "\t\t\t<div class=\"meta\">\n",
      "\t\t\t\t<div class=\"author\">Alaba</div>\n",
      "\t\t\t\t<div class=\"article-menu\">\n",
      "\t\t\t\t\t\n",
      "\t\t\t\t\t<div class=\"trigger\">&#x22ef;</div>\n",
      "\t\t\t\t\t<div class=\"dropdown\">\n",
      "\t\t\t\t\t\t<div class=\"item\"><a href=\"/bbs/Gossiping/search?q=thread%3A%5B%E5%95%8F%E5%8D%A6%5D&#43;%E5%89%B5%E6%A5%AD%E5%81%9A%E6%94%BF%E5%BA%9C%E6%A8%99%E6%A1%88%E6%98%AF%E4%B8%8D%E6%98%AF%E6%88%90%E5%8A%9F%E7%8E%87%E6%AF%94%E8%BC%83%E9%AB%98%EF%BC%9F\">搜尋同標題文章</a></div>\n",
      "\t\t\t\t\t\t\n",
      "\t\t\t\t\t\t<div class=\"item\"><a href=\"/bbs/Gossiping/search?q=author%3AAlaba\">搜尋看板內 Alaba 的文章</a></div>\n",
      "\t\t\t\t\t\t\n",
      "\t\t\t\t\t</div>\n",
      "\t\t\t\t\t\n",
      "\t\t\t\t</div>\n",
      "\t\t\t\t<div class=\"date\"> 8/30</div>\n",
      "\t\t\t\t<div class=\"mark\"></div>\n",
      "\t\t\t</div>\n",
      "\t\t</div>\n",
      "\n",
      "\t\t\n",
      "            \n",
      "        \n",
      "        \n",
      "\t\t<div class=\"r-ent\">\n",
      "\t\t\t<div class=\"nrec\"><span class=\"hl f2\">2</span></div>\n",
      "\t\t\t<div class=\"title\">\n",
      "\t\t\t\n",
      "\t\t\t\t<a href=\"/bbs/Gossiping/M.1693357472.A.35C.html\">Re: [問卦] 第一次去日本沒排去神社很怪嗎</a>\n",
      "\t\t\t\n",
      "\t\t\t</div>\n",
      "\t\t\t<div class=\"meta\">\n",
      "\t\t\t\t<div class=\"author\">pchunters</div>\n",
      "\t\t\t\t<div class=\"article-menu\">\n",
      "\t\t\t\t\t\n",
      "\t\t\t\t\t<div class=\"trigger\">&#x22ef;</div>\n",
      "\t\t\t\t\t<div class=\"dropdown\">\n",
      "\t\t\t\t\t\t<div class=\"item\"><a href=\"/bbs/Gossiping/search?q=thread%3A%5B%E5%95%8F%E5%8D%A6%5D&#43;%E7%AC%AC%E4%B8%80%E6%AC%A1%E5%8E%BB%E6%97%A5%E6%9C%AC%E6%B2%92%E6%8E%92%E5%8E%BB%E7%A5%9E%E7%A4%BE%E5%BE%88%E6%80%AA%E5%97%8E\">搜尋同標題文章</a></div>\n",
      "\t\t\t\t\t\t\n",
      "\t\t\t\t\t\t<div class=\"item\"><a href=\"/bbs/Gossiping/search?q=author%3Apchunters\">搜尋看板內 pchunters 的文章</a></div>\n",
      "\t\t\t\t\t\t\n",
      "\t\t\t\t\t</div>\n",
      "\t\t\t\t\t\n",
      "\t\t\t\t</div>\n",
      "\t\t\t\t<div class=\"date\"> 8/30</div>\n",
      "\t\t\t\t<div class=\"mark\"></div>\n",
      "\t\t\t</div>\n",
      "\t\t</div>\n",
      "\n",
      "\t\t\n",
      "            \n",
      "        \n",
      "        \n",
      "\t\t<div class=\"r-ent\">\n",
      "\t\t\t<div class=\"nrec\"><span class=\"hl f2\">3</span></div>\n",
      "\t\t\t<div class=\"title\">\n",
      "\t\t\t\n",
      "\t\t\t\t<a href=\"/bbs/Gossiping/M.1693357491.A.716.html\">Re: [新聞] 再向柯喊話！郭台銘：希望有機會能再一起</a>\n",
      "\t\t\t\n",
      "\t\t\t</div>\n",
      "\t\t\t<div class=\"meta\">\n",
      "\t\t\t\t<div class=\"author\">Dinenger</div>\n",
      "\t\t\t\t<div class=\"article-menu\">\n",
      "\t\t\t\t\t\n",
      "\t\t\t\t\t<div class=\"trigger\">&#x22ef;</div>\n",
      "\t\t\t\t\t<div class=\"dropdown\">\n",
      "\t\t\t\t\t\t<div class=\"item\"><a href=\"/bbs/Gossiping/search?q=thread%3A%5B%E6%96%B0%E8%81%9E%5D&#43;%E5%86%8D%E5%90%91%E6%9F%AF%E5%96%8A%E8%A9%B1%EF%BC%81%E9%83%AD%E5%8F%B0%E9%8A%98%EF%BC%9A%E5%B8%8C%E6%9C%9B%E6%9C%89%E6%A9%9F%E6%9C%83%E8%83%BD%E5%86%8D%E4%B8%80%E8%B5%B7\">搜尋同標題文章</a></div>\n",
      "\t\t\t\t\t\t\n",
      "\t\t\t\t\t\t<div class=\"item\"><a href=\"/bbs/Gossiping/search?q=author%3ADinenger\">搜尋看板內 Dinenger 的文章</a></div>\n",
      "\t\t\t\t\t\t\n",
      "\t\t\t\t\t</div>\n",
      "\t\t\t\t\t\n",
      "\t\t\t\t</div>\n",
      "\t\t\t\t<div class=\"date\"> 8/30</div>\n",
      "\t\t\t\t<div class=\"mark\"></div>\n",
      "\t\t\t</div>\n",
      "\t\t</div>\n",
      "\n",
      "\t\t\n",
      "            \n",
      "        \n",
      "        \n",
      "\t\t<div class=\"r-ent\">\n",
      "\t\t\t<div class=\"nrec\"><span class=\"hl f2\">4</span></div>\n",
      "\t\t\t<div class=\"title\">\n",
      "\t\t\t\n",
      "\t\t\t\t<a href=\"/bbs/Gossiping/M.1693357584.A.47E.html\">[新聞] 三重工地消毒防登革熱水溝驚見無名男屍</a>\n",
      "\t\t\t\n",
      "\t\t\t</div>\n",
      "\t\t\t<div class=\"meta\">\n",
      "\t\t\t\t<div class=\"author\">DiCaprio</div>\n",
      "\t\t\t\t<div class=\"article-menu\">\n",
      "\t\t\t\t\t\n",
      "\t\t\t\t\t<div class=\"trigger\">&#x22ef;</div>\n",
      "\t\t\t\t\t<div class=\"dropdown\">\n",
      "\t\t\t\t\t\t<div class=\"item\"><a href=\"/bbs/Gossiping/search?q=thread%3A%5B%E6%96%B0%E8%81%9E%5D&#43;%E4%B8%89%E9%87%8D%E5%B7%A5%E5%9C%B0%E6%B6%88%E6%AF%92%E9%98%B2%E7%99%BB%E9%9D%A9%E7%86%B1%E6%B0%B4%E6%BA%9D%E9%A9%9A%E8%A6%8B%E7%84%A1%E5%90%8D%E7%94%B7%E5%B1%8D\">搜尋同標題文章</a></div>\n",
      "\t\t\t\t\t\t\n",
      "\t\t\t\t\t\t<div class=\"item\"><a href=\"/bbs/Gossiping/search?q=author%3ADiCaprio\">搜尋看板內 DiCaprio 的文章</a></div>\n",
      "\t\t\t\t\t\t\n",
      "\t\t\t\t\t</div>\n",
      "\t\t\t\t\t\n",
      "\t\t\t\t</div>\n",
      "\t\t\t\t<div class=\"date\"> 8/30</div>\n",
      "\t\t\t\t<div class=\"mark\"></div>\n",
      "\t\t\t</div>\n",
      "\t\t</div>\n",
      "\n",
      "\t\t\n",
      "            \n",
      "        \n",
      "        \n",
      "\t\t<div class=\"r-ent\">\n",
      "\t\t\t<div class=\"nrec\"></div>\n",
      "\t\t\t<div class=\"title\">\n",
      "\t\t\t\n",
      "\t\t\t\t<a href=\"/bbs/Gossiping/M.1693357646.A.8CD.html\">[問卦] 日光住宿挑哪裡好？</a>\n",
      "\t\t\t\n",
      "\t\t\t</div>\n",
      "\t\t\t<div class=\"meta\">\n",
      "\t\t\t\t<div class=\"author\">zzyyxx77</div>\n",
      "\t\t\t\t<div class=\"article-menu\">\n",
      "\t\t\t\t\t\n",
      "\t\t\t\t\t<div class=\"trigger\">&#x22ef;</div>\n",
      "\t\t\t\t\t<div class=\"dropdown\">\n",
      "\t\t\t\t\t\t<div class=\"item\"><a href=\"/bbs/Gossiping/search?q=thread%3A%5B%E5%95%8F%E5%8D%A6%5D&#43;%E6%97%A5%E5%85%89%E4%BD%8F%E5%AE%BF%E6%8C%91%E5%93%AA%E8%A3%A1%E5%A5%BD%EF%BC%9F\">搜尋同標題文章</a></div>\n",
      "\t\t\t\t\t\t\n",
      "\t\t\t\t\t\t<div class=\"item\"><a href=\"/bbs/Gossiping/search?q=author%3Azzyyxx77\">搜尋看板內 zzyyxx77 的文章</a></div>\n",
      "\t\t\t\t\t\t\n",
      "\t\t\t\t\t</div>\n",
      "\t\t\t\t\t\n",
      "\t\t\t\t</div>\n",
      "\t\t\t\t<div class=\"date\"> 8/30</div>\n",
      "\t\t\t\t<div class=\"mark\"></div>\n",
      "\t\t\t</div>\n",
      "\t\t</div>\n",
      "\n",
      "\t\t\n",
      "            \n",
      "        \n",
      "        \n",
      "\t\t<div class=\"r-ent\">\n",
      "\t\t\t<div class=\"nrec\"></div>\n",
      "\t\t\t<div class=\"title\">\n",
      "\t\t\t\n",
      "\t\t\t\t<a href=\"/bbs/Gossiping/M.1693357658.A.A50.html\">Re: [新聞] 竹北恐怖車禍！騎士被左轉車撞倒又遭「</a>\n",
      "\t\t\t\n",
      "\t\t\t</div>\n",
      "\t\t\t<div class=\"meta\">\n",
      "\t\t\t\t<div class=\"author\">iLeyaSin365</div>\n",
      "\t\t\t\t<div class=\"article-menu\">\n",
      "\t\t\t\t\t\n",
      "\t\t\t\t\t<div class=\"trigger\">&#x22ef;</div>\n",
      "\t\t\t\t\t<div class=\"dropdown\">\n",
      "\t\t\t\t\t\t<div class=\"item\"><a href=\"/bbs/Gossiping/search?q=thread%3A%5B%E6%96%B0%E8%81%9E%5D&#43;%E7%AB%B9%E5%8C%97%E6%81%90%E6%80%96%E8%BB%8A%E7%A6%8D%EF%BC%81%E9%A8%8E%E5%A3%AB%E8%A2%AB%E5%B7%A6%E8%BD%89%E8%BB%8A%E6%92%9E%E5%80%92%E5%8F%88%E9%81%AD%E3%80%8C\">搜尋同標題文章</a></div>\n",
      "\t\t\t\t\t\t\n",
      "\t\t\t\t\t\t<div class=\"item\"><a href=\"/bbs/Gossiping/search?q=author%3AiLeyaSin365\">搜尋看板內 iLeyaSin365 的文章</a></div>\n",
      "\t\t\t\t\t\t\n",
      "\t\t\t\t\t</div>\n",
      "\t\t\t\t\t\n",
      "\t\t\t\t</div>\n",
      "\t\t\t\t<div class=\"date\"> 8/30</div>\n",
      "\t\t\t\t<div class=\"mark\"></div>\n",
      "\t\t\t</div>\n",
      "\t\t</div>\n",
      "\n",
      "\t\t\n",
      "        \n",
      "        <div class=\"r-list-sep\"></div>\n",
      "            \n",
      "                \n",
      "        \n",
      "        \n",
      "\t\t<div class=\"r-ent\">\n",
      "\t\t\t<div class=\"nrec\"></div>\n",
      "\t\t\t<div class=\"title\">\n",
      "\t\t\t\n",
      "\t\t\t\t<a href=\"/bbs/Gossiping/M.1677600392.A.D12.html\">[公告] 八卦板板規(2023.03.01)</a>\n",
      "\t\t\t\n",
      "\t\t\t</div>\n",
      "\t\t\t<div class=\"meta\">\n",
      "\t\t\t\t<div class=\"author\">lwt501cx</div>\n",
      "\t\t\t\t<div class=\"article-menu\">\n",
      "\t\t\t\t\t\n",
      "\t\t\t\t\t<div class=\"trigger\">&#x22ef;</div>\n",
      "\t\t\t\t\t<div class=\"dropdown\">\n",
      "\t\t\t\t\t\t<div class=\"item\"><a href=\"/bbs/Gossiping/search?q=thread%3A%5B%E5%85%AC%E5%91%8A%5D&#43;%E5%85%AB%E5%8D%A6%E6%9D%BF%E6%9D%BF%E8%A6%8F%282023.03.01%29\">搜尋同標題文章</a></div>\n",
      "\t\t\t\t\t\t\n",
      "\t\t\t\t\t\t<div class=\"item\"><a href=\"/bbs/Gossiping/search?q=author%3Alwt501cx\">搜尋看板內 lwt501cx 的文章</a></div>\n",
      "\t\t\t\t\t\t\n",
      "\t\t\t\t\t</div>\n",
      "\t\t\t\t\t\n",
      "\t\t\t\t</div>\n",
      "\t\t\t\t<div class=\"date\"> 3/01</div>\n",
      "\t\t\t\t<div class=\"mark\">!</div>\n",
      "\t\t\t</div>\n",
      "\t\t</div>\n",
      "\n",
      "            \n",
      "                \n",
      "        \n",
      "        \n",
      "\t\t<div class=\"r-ent\">\n",
      "\t\t\t<div class=\"nrec\"><span class=\"hl f3\">20</span></div>\n",
      "\t\t\t<div class=\"title\">\n",
      "\t\t\t\n",
      "\t\t\t\t<a href=\"/bbs/Gossiping/M.1691835442.A.ABC.html\">[協尋] 8/11 約晚上九點北市辛亥路一段跟溫州街 </a>\n",
      "\t\t\t\n",
      "\t\t\t</div>\n",
      "\t\t\t<div class=\"meta\">\n",
      "\t\t\t\t<div class=\"author\">slimj951</div>\n",
      "\t\t\t\t<div class=\"article-menu\">\n",
      "\t\t\t\t\t\n",
      "\t\t\t\t\t<div class=\"trigger\">&#x22ef;</div>\n",
      "\t\t\t\t\t<div class=\"dropdown\">\n",
      "\t\t\t\t\t\t<div class=\"item\"><a href=\"/bbs/Gossiping/search?q=thread%3A%5B%E5%8D%94%E5%B0%8B%5D&#43;8%2F11&#43;%E7%B4%84%E6%99%9A%E4%B8%8A%E4%B9%9D%E9%BB%9E%E5%8C%97%E5%B8%82%E8%BE%9B%E4%BA%A5%E8%B7%AF%E4%B8%80%E6%AE%B5%E8%B7%9F%E6%BA%AB%E5%B7%9E%E8%A1%97&#43;\">搜尋同標題文章</a></div>\n",
      "\t\t\t\t\t\t\n",
      "\t\t\t\t\t\t<div class=\"item\"><a href=\"/bbs/Gossiping/search?q=author%3Aslimj951\">搜尋看板內 slimj951 的文章</a></div>\n",
      "\t\t\t\t\t\t\n",
      "\t\t\t\t\t</div>\n",
      "\t\t\t\t\t\n",
      "\t\t\t\t</div>\n",
      "\t\t\t\t<div class=\"date\"> 8/12</div>\n",
      "\t\t\t\t<div class=\"mark\"></div>\n",
      "\t\t\t</div>\n",
      "\t\t</div>\n",
      "\n",
      "            \n",
      "                \n",
      "        \n",
      "        \n",
      "\t\t<div class=\"r-ent\">\n",
      "\t\t\t<div class=\"nrec\"><span class=\"hl f3\">11</span></div>\n",
      "\t\t\t<div class=\"title\">\n",
      "\t\t\t\n",
      "\t\t\t\t<a href=\"/bbs/Gossiping/M.1692238560.A.B10.html\">[協尋] 8/15晚上板橋館前西路錢櫃車禍影片</a>\n",
      "\t\t\t\n",
      "\t\t\t</div>\n",
      "\t\t\t<div class=\"meta\">\n",
      "\t\t\t\t<div class=\"author\">taiger1986</div>\n",
      "\t\t\t\t<div class=\"article-menu\">\n",
      "\t\t\t\t\t\n",
      "\t\t\t\t\t<div class=\"trigger\">&#x22ef;</div>\n",
      "\t\t\t\t\t<div class=\"dropdown\">\n",
      "\t\t\t\t\t\t<div class=\"item\"><a href=\"/bbs/Gossiping/search?q=thread%3A%5B%E5%8D%94%E5%B0%8B%5D&#43;8%2F15%E6%99%9A%E4%B8%8A%E6%9D%BF%E6%A9%8B%E9%A4%A8%E5%89%8D%E8%A5%BF%E8%B7%AF%E9%8C%A2%E6%AB%83%E8%BB%8A%E7%A6%8D%E5%BD%B1%E7%89%87\">搜尋同標題文章</a></div>\n",
      "\t\t\t\t\t\t\n",
      "\t\t\t\t\t\t<div class=\"item\"><a href=\"/bbs/Gossiping/search?q=author%3Ataiger1986\">搜尋看板內 taiger1986 的文章</a></div>\n",
      "\t\t\t\t\t\t\n",
      "\t\t\t\t\t</div>\n",
      "\t\t\t\t\t\n",
      "\t\t\t\t</div>\n",
      "\t\t\t\t<div class=\"date\"> 8/17</div>\n",
      "\t\t\t\t<div class=\"mark\"></div>\n",
      "\t\t\t</div>\n",
      "\t\t</div>\n",
      "\n",
      "            \n",
      "                \n",
      "        \n",
      "        \n",
      "\t\t<div class=\"r-ent\">\n",
      "\t\t\t<div class=\"nrec\"><span class=\"hl f2\">8</span></div>\n",
      "\t\t\t<div class=\"title\">\n",
      "\t\t\t\n",
      "\t\t\t\t<a href=\"/bbs/Gossiping/M.1692939356.A.67A.html\">[協尋] 8/21(一)內湖瑞湖街和舊宗路巷口車禍影片</a>\n",
      "\t\t\t\n",
      "\t\t\t</div>\n",
      "\t\t\t<div class=\"meta\">\n",
      "\t\t\t\t<div class=\"author\">kobe26572153</div>\n",
      "\t\t\t\t<div class=\"article-menu\">\n",
      "\t\t\t\t\t\n",
      "\t\t\t\t\t<div class=\"trigger\">&#x22ef;</div>\n",
      "\t\t\t\t\t<div class=\"dropdown\">\n",
      "\t\t\t\t\t\t<div class=\"item\"><a href=\"/bbs/Gossiping/search?q=thread%3A%5B%E5%8D%94%E5%B0%8B%5D&#43;8%2F21%28%E4%B8%80%29%E5%85%A7%E6%B9%96%E7%91%9E%E6%B9%96%E8%A1%97%E5%92%8C%E8%88%8A%E5%AE%97%E8%B7%AF%E5%B7%B7%E5%8F%A3%E8%BB%8A%E7%A6%8D%E5%BD%B1%E7%89%87\">搜尋同標題文章</a></div>\n",
      "\t\t\t\t\t\t\n",
      "\t\t\t\t\t\t<div class=\"item\"><a href=\"/bbs/Gossiping/search?q=author%3Akobe26572153\">搜尋看板內 kobe26572153 的文章</a></div>\n",
      "\t\t\t\t\t\t\n",
      "\t\t\t\t\t</div>\n",
      "\t\t\t\t\t\n",
      "\t\t\t\t</div>\n",
      "\t\t\t\t<div class=\"date\"> 8/25</div>\n",
      "\t\t\t\t<div class=\"mark\"></div>\n",
      "\t\t\t</div>\n",
      "\t\t</div>\n",
      "\n",
      "            \n",
      "                \n",
      "        \n",
      "        \n",
      "\t\t<div class=\"r-ent\">\n",
      "\t\t\t<div class=\"nrec\"><span class=\"hl f3\">19</span></div>\n",
      "\t\t\t<div class=\"title\">\n",
      "\t\t\t\n",
      "\t\t\t\t<a href=\"/bbs/Gossiping/M.1692593913.A.AD2.html\">[協尋] 8/18半夜1點半台中向上路東興路車禍影像</a>\n",
      "\t\t\t\n",
      "\t\t\t</div>\n",
      "\t\t\t<div class=\"meta\">\n",
      "\t\t\t\t<div class=\"author\">ujiasobu</div>\n",
      "\t\t\t\t<div class=\"article-menu\">\n",
      "\t\t\t\t\t\n",
      "\t\t\t\t\t<div class=\"trigger\">&#x22ef;</div>\n",
      "\t\t\t\t\t<div class=\"dropdown\">\n",
      "\t\t\t\t\t\t<div class=\"item\"><a href=\"/bbs/Gossiping/search?q=thread%3A%5B%E5%8D%94%E5%B0%8B%5D&#43;8%2F18%E5%8D%8A%E5%A4%9C1%E9%BB%9E%E5%8D%8A%E5%8F%B0%E4%B8%AD%E5%90%91%E4%B8%8A%E8%B7%AF%E6%9D%B1%E8%88%88%E8%B7%AF%E8%BB%8A%E7%A6%8D%E5%BD%B1%E5%83%8F\">搜尋同標題文章</a></div>\n",
      "\t\t\t\t\t\t\n",
      "\t\t\t\t\t\t<div class=\"item\"><a href=\"/bbs/Gossiping/search?q=author%3Aujiasobu\">搜尋看板內 ujiasobu 的文章</a></div>\n",
      "\t\t\t\t\t\t\n",
      "\t\t\t\t\t</div>\n",
      "\t\t\t\t\t\n",
      "\t\t\t\t</div>\n",
      "\t\t\t\t<div class=\"date\"> 8/21</div>\n",
      "\t\t\t\t<div class=\"mark\"></div>\n",
      "\t\t\t</div>\n",
      "\t\t</div>\n",
      "\n",
      "            \n",
      "        \n",
      "\t</div>\n",
      "\n",
      "    \n",
      "<div class=\"bbs-screen bbs-footer-message\">本網站已依台灣網站內容分級規定處理。此區域為限制級，未滿十八歲者不得瀏覽。</div>\n",
      "\n",
      "</div>\n",
      "\n",
      "\t\t\n",
      "\n",
      "\n",
      "\n",
      "<script async src=\"https://www.googletagmanager.com/gtag/js?id=G-DZ6Y3BY9GW\"></script>\n",
      "<script>\n",
      "      window.dataLayer = window.dataLayer || [];\n",
      "      function gtag(){dataLayer.push(arguments);}\n",
      "      gtag('js', new Date());\n",
      "\n",
      "      gtag('config', 'G-DZ6Y3BY9GW');\n",
      "</script>\n",
      "<script>\n",
      "  (function(i,s,o,g,r,a,m){i['GoogleAnalyticsObject']=r;i[r]=i[r]||function(){\n",
      "  (i[r].q=i[r].q||[]).push(arguments)},i[r].l=1*new Date();a=s.createElement(o),\n",
      "  m=s.getElementsByTagName(o)[0];a.async=1;a.src=g;m.parentNode.insertBefore(a,m)\n",
      "  })(window,document,'script','https://www.google-analytics.com/analytics.js','ga');\n",
      "\n",
      "  ga('create', 'UA-32365737-1', {\n",
      "    cookieDomain: 'ptt.cc',\n",
      "    legacyCookieDomain: 'ptt.cc'\n",
      "  });\n",
      "  ga('send', 'pageview');\n",
      "</script>\n",
      "\n",
      "\n",
      "\t\t\n",
      "<script src=\"//ajax.googleapis.com/ajax/libs/jquery/2.1.1/jquery.min.js\"></script>\n",
      "<script src=\"//images.ptt.cc/bbs/v2.27/bbs.js\"></script>\n",
      "\n",
      "    <script defer src=\"https://static.cloudflareinsights.com/beacon.min.js/v8b253dfea2ab4077af8c6f58422dfbfd1689876627854\" integrity=\"sha512-bjgnUKX4azu3dLTVtie9u6TKqgx29RBwfj3QXYt5EKfWM/9hPSAI/4qcV5NACjwAo8UtTeWefx6Zq5PHcMm7Tg==\" data-cf-beacon='{\"rayId\":\"7fe926b5ba5e103a\",\"version\":\"2023.8.0\",\"r\":1,\"b\":1,\"token\":\"515615eb5fab4c9b91a11e9bf529e6cf\",\"si\":100}' crossorigin=\"anonymous\"></script>\n",
      "</body>\n",
      "</html>\n",
      "\n"
     ]
    }
   ],
   "source": [
    "#使用cookies的實際範例\n",
    "# <<Chrome>> 開發人員工具(Ctrl+Shift+I)/Application/Cookies\n",
    "\n",
    "import requests\n",
    "url = 'https://www.ptt.cc/bbs/Gossiping/index.html'\n",
    "# 設定cookies的值\n",
    "cookies = {'over18':'1'}\n",
    "html = requests.get(url, cookies=cookies)\n",
    "print(html.text)"
   ]
  },
  {
   "cell_type": "code",
   "execution_count": 21,
   "metadata": {},
   "outputs": [
    {
     "name": "stdout",
     "output_type": "stream",
     "text": [
      "<!DOCTYPE html>\n",
      "<html>\n",
      "\t<head>\n",
      "\t\t<meta charset=\"utf-8\">\n",
      "\t\t\n",
      "\n",
      "<meta name=\"viewport\" content=\"width=device-width, initial-scale=1\">\n",
      "\n",
      "<title>批踢踢實業坊</title>\n",
      "\n",
      "<link rel=\"stylesheet\" type=\"text/css\" href=\"//images.ptt.cc/bbs/v2.27/bbs-common.css\">\n",
      "<link rel=\"stylesheet\" type=\"text/css\" href=\"//images.ptt.cc/bbs/v2.27/bbs-base.css\" media=\"screen\">\n",
      "<link rel=\"stylesheet\" type=\"text/css\" href=\"//images.ptt.cc/bbs/v2.27/bbs-custom.css\">\n",
      "<link rel=\"stylesheet\" type=\"text/css\" href=\"//images.ptt.cc/bbs/v2.27/pushstream.css\" media=\"screen\">\n",
      "<link rel=\"stylesheet\" type=\"text/css\" href=\"//images.ptt.cc/bbs/v2.27/bbs-print.css\" media=\"print\">\n",
      "\n",
      "\n",
      "\n",
      "\n",
      "\t</head>\n",
      "    <body>\n",
      "\t\t\n",
      "<div class=\"bbs-screen bbs-content\">\n",
      "    <div class=\"over18-notice\">\n",
      "        <p>本網站已依網站內容分級規定處理</p>\n",
      "\n",
      "        <p>警告︰您即將進入之看板內容需滿十八歲方可瀏覽。</p>\n",
      "\n",
      "        <p>若您尚未年滿十八歲，請點選離開。若您已滿十八歲，亦不可將本區之內容派發、傳閱、出售、出租、交給或借予年齡未滿18歲的人士瀏覽，或將本網站內容向該人士出示、播放或放映。</p>\n",
      "    </div>\n",
      "</div>\n",
      "\n",
      "<div class=\"bbs-screen bbs-content center clear\">\n",
      "    <form action=\"/ask/over18\" method=\"post\">\n",
      "        <input type=\"hidden\" name=\"from\" value=\"/bbs/Gossiping/index.html\">\n",
      "        <div class=\"over18-button-container\">\n",
      "            <button class=\"btn-big\" type=\"submit\" name=\"yes\" value=\"yes\">我同意，我已年滿十八歲<br><small>進入</small></button>\n",
      "        </div>\n",
      "        <div class=\"over18-button-container\">\n",
      "            <button class=\"btn-big\" type=\"submit\" name=\"no\" value=\"no\">未滿十八歲或不同意本條款<br><small>離開</small></button>\n",
      "        </div>\n",
      "    </form>\n",
      "</div>\n",
      "\n",
      "\t\t\n",
      "\n",
      "\n",
      "\n",
      "<script async src=\"https://www.googletagmanager.com/gtag/js?id=G-DZ6Y3BY9GW\"></script>\n",
      "<script>\n",
      "      window.dataLayer = window.dataLayer || [];\n",
      "      function gtag(){dataLayer.push(arguments);}\n",
      "      gtag('js', new Date());\n",
      "\n",
      "      gtag('config', 'G-DZ6Y3BY9GW');\n",
      "</script>\n",
      "<script>\n",
      "  (function(i,s,o,g,r,a,m){i['GoogleAnalyticsObject']=r;i[r]=i[r]||function(){\n",
      "  (i[r].q=i[r].q||[]).push(arguments)},i[r].l=1*new Date();a=s.createElement(o),\n",
      "  m=s.getElementsByTagName(o)[0];a.async=1;a.src=g;m.parentNode.insertBefore(a,m)\n",
      "  })(window,document,'script','https://www.google-analytics.com/analytics.js','ga');\n",
      "\n",
      "  ga('create', 'UA-32365737-1', {\n",
      "    cookieDomain: 'ptt.cc',\n",
      "    legacyCookieDomain: 'ptt.cc'\n",
      "  });\n",
      "  ga('send', 'pageview');\n",
      "</script>\n",
      "\n",
      "\n",
      "\t\t\n",
      "<script src=\"//ajax.googleapis.com/ajax/libs/jquery/2.1.1/jquery.min.js\"></script>\n",
      "<script src=\"//images.ptt.cc/bbs/v2.27/bbs.js\"></script>\n",
      "\n",
      "    <script defer src=\"https://static.cloudflareinsights.com/beacon.min.js/v8b253dfea2ab4077af8c6f58422dfbfd1689876627854\" integrity=\"sha512-bjgnUKX4azu3dLTVtie9u6TKqgx29RBwfj3QXYt5EKfWM/9hPSAI/4qcV5NACjwAo8UtTeWefx6Zq5PHcMm7Tg==\" data-cf-beacon='{\"rayId\":\"7fe9281b5f092f35\",\"version\":\"2023.8.0\",\"r\":1,\"b\":1,\"token\":\"515615eb5fab4c9b91a11e9bf529e6cf\",\"si\":100}' crossorigin=\"anonymous\"></script>\n",
      "</body>\n",
      "</html>\n",
      "\n"
     ]
    }
   ],
   "source": [
    "#使用cookies的實際範例\n",
    "# <<Chrome>> 開發人員工具(Ctrl+Shift+I)/Application/Cookies\n",
    "# 沒有設定cookies的值\n",
    "\n",
    "# get_cookie.py\n",
    "import requests\n",
    "url = 'https://www.ptt.cc/bbs/Gossiping/index.html'\n",
    "# 沒有設定cookies的值\n",
    "# cookies = {'over18':'1'}\n",
    "r = requests.get(url)\n",
    "print(r.text)"
   ]
  },
  {
   "cell_type": "markdown",
   "metadata": {
    "id": "4ByWJud04AFI"
   },
   "source": [
    "# BeautifulSoup 模組：網頁解析"
   ]
  },
  {
   "cell_type": "markdown",
   "metadata": {
    "id": "hu1y5Jz-yvAR"
   },
   "source": [
    "## 認識網頁的結構"
   ]
  },
  {
   "cell_type": "code",
   "execution_count": null,
   "metadata": {
    "id": "7B2RJfqLy3fS"
   },
   "outputs": [],
   "source": [
    "# bsdemo1.htm\n",
    "'''\n",
    "<!doctype html>\n",
    "<html>\n",
    "  <head>\n",
    "    <meta charset=\"UTF-8\">\n",
    "    <title>我是網頁標題</title>\n",
    "  </head>\n",
    "  <body>\n",
    "    <h1 class=\"large\">我是標題</h1>\n",
    "    <div>\n",
    "      <p>我是段落</p>\n",
    "      <img src=\"https://www.w3.org/html/logo/\n",
    "\t\t\tdownloads/HTML5_Logo_256.png\" alt=\"我是圖片\">\n",
    "      <a href=\"http://www.e-happy.com.tw\">我是超連結</a>\n",
    "    </div>\n",
    "      </body>\n",
    "</html>\n",
    "'''"
   ]
  },
  {
   "cell_type": "markdown",
   "metadata": {
    "id": "vmJUvs_14vLp"
   },
   "source": [
    "## BeautifulSoup 常用的屬性"
   ]
  },
  {
   "cell_type": "code",
   "execution_count": 22,
   "metadata": {
    "colab": {
     "base_uri": "https://localhost:8080/"
    },
    "id": "NZTxcMOv4fCR",
    "outputId": "98f0c2cd-b5f9-4dcc-c580-c5e012eecead"
   },
   "outputs": [
    {
     "name": "stdout",
     "output_type": "stream",
     "text": [
      "<class 'bs4.BeautifulSoup'>\n",
      "<title>我是網頁標題</title>\n",
      "<class 'bs4.element.Tag'>\n",
      "我是網頁標題\n",
      "<h1 class=\"large\">我是標題</h1>\n",
      "<p>我是段落</p>\n"
     ]
    }
   ],
   "source": [
    "#BeautifulSoup模組\n",
    "#https://blog.gtwang.org/programming/python-beautiful-soup-module-scrape-web-pages-tutorial/\n",
    "#https://www.crummy.com/software/BeautifulSoup/bs4/doc/\n",
    "\n",
    "import requests\n",
    "from bs4 import BeautifulSoup\n",
    "url = 'http://ehappy.tw/bsdemo1.htm'\n",
    "html = requests.get(url)\n",
    "html.encoding = 'UTF-8'\n",
    "sp = BeautifulSoup(html.text, 'lxml')\n",
    "print(type(sp))       # BeautifulSoup物件\n",
    "print(sp.title)\n",
    "print(type(sp.title)) # Tag物件\n",
    "print(sp.title.text)\n",
    "print(sp.h1)  #第一個滿足者\n",
    "print(sp.p)"
   ]
  },
  {
   "cell_type": "code",
   "execution_count": 23,
   "metadata": {},
   "outputs": [
    {
     "name": "stdout",
     "output_type": "stream",
     "text": [
      "<!doctype html>\r\n",
      "<html lang=\"zh\">\r\n",
      "  <head>\r\n",
      "    <meta charset=\"UTF-8\">\r\n",
      "    <title>我是網頁標題</title>\r\n",
      "  </head>\r\n",
      "  <body>\r\n",
      "    <h1 class=\"large\">我是標題</h1>\r\n",
      "    <div>\r\n",
      "      <p>我是段落</p>\r\n",
      "      <img src=\"https://www.w3.org/html/logo/downloads/HTML5_Logo_256.png\" alt=\"我是圖片\">\r\n",
      "      <a href=\"http://www.e-happy.com.tw\">我是超連結</a>\r\n",
      "    </div>\r\n",
      "  </body>\r\n",
      "</html>\n",
      "------------------------------------------\n",
      "\n",
      "\n",
      "\n",
      "我是網頁標題\n",
      "\n",
      "\n",
      "我是標題\n",
      "\n",
      "我是段落\n",
      "\n",
      "我是超連結\n",
      "\n",
      "\n",
      "\n",
      "------------------------------------------\n",
      "我是網頁標題\n",
      "我是標題\n",
      "我是段落\n",
      "我是超連結\n",
      "------------------------------------------\n",
      "我是網頁標題\n",
      "我是標題\n",
      "我是段落\n",
      "我是超連結\n"
     ]
    }
   ],
   "source": [
    "import requests\n",
    "from bs4 import BeautifulSoup\n",
    "url = 'http://www.ehappy.tw/bsdemo1.htm'\n",
    "html = requests.get(url)\n",
    "\n",
    "html.encoding = 'UTF-8'\n",
    "print(html.text)\n",
    "print(\"------------------------------------------\")\n",
    "sp = BeautifulSoup(html.text, 'lxml')\n",
    "print(sp.text)   #所有文字字串\n",
    "print(\"------------------------------------------\")\n",
    "print(sp.title.text)   #title中的文字字串\n",
    "print(sp.h1.text)      #.text針對tag中所有的children、descendants的文字字串\n",
    "print(sp.p.text)\n",
    "print(sp.a.text)\n",
    "print(\"------------------------------------------\")\n",
    "print(sp.title.string)   #title中的文字字串\n",
    "print(sp.h1.string)      #.string只能針對tag中擁有唯一的child的文字字串\n",
    "print(sp.p.string)\n",
    "print(sp.a.string)"
   ]
  },
  {
   "cell_type": "code",
   "execution_count": 1,
   "metadata": {},
   "outputs": [
    {
     "name": "stdout",
     "output_type": "stream",
     "text": [
      "<a>\n",
      " <b>\n",
      "  text1\n",
      " </b>\n",
      " <c>\n",
      "  text2\n",
      " </c>\n",
      "</a>\n",
      "------------------------------------------\n",
      "text1text2\n",
      "None\n",
      "------------------------------------------\n",
      "text1\n",
      "text1\n"
     ]
    }
   ],
   "source": [
    "#https://www.crummy.com/software/BeautifulSoup/bs4/doc/#navigating-the-tree\n",
    "#.string只能針對tag中擁有唯一的child的文字字串\n",
    "\n",
    "import requests\n",
    "from bs4 import BeautifulSoup\n",
    "\n",
    "sibling_soup = BeautifulSoup(\"<a><b>text1</b><c>text2</c></a>\", 'html.parser')\n",
    "print(sibling_soup.prettify())\n",
    "print(\"------------------------------------------\")\n",
    "print(sibling_soup.text)    #.text針對tag中所有的children、descendants的文字字串\n",
    "print(sibling_soup.string)  #.string只能針對tag中擁有唯一的child的文字字串\n",
    "print(\"------------------------------------------\")\n",
    "b = sibling_soup.b\n",
    "print(b.text)\n",
    "print(b.string)"
   ]
  },
  {
   "cell_type": "markdown",
   "metadata": {
    "id": "dGNgc7Gm45sZ"
   },
   "source": [
    "## 找尋指定標籤的內容：find()、find_all()"
   ]
  },
  {
   "cell_type": "code",
   "execution_count": 24,
   "metadata": {
    "id": "Ck1y81s05Jgx"
   },
   "outputs": [],
   "source": [
    "html = '''\n",
    "<html>\n",
    "  <head><meta charset=\"UTF-8\"><title>我是網頁標題</title></head>\n",
    "  <body>\n",
    "      <p id=\"p1\">我是段落一</p>\n",
    "      <p id=\"p2\" class='red'>我是段落二</p>\n",
    "  </body>\n",
    "</html>\n",
    "'''"
   ]
  },
  {
   "cell_type": "code",
   "execution_count": 25,
   "metadata": {
    "colab": {
     "base_uri": "https://localhost:8080/"
    },
    "id": "Q20bjJMqwrd1",
    "outputId": "816f4b7f-08b5-4cbb-c6f7-05b9631ece25"
   },
   "outputs": [
    {
     "name": "stdout",
     "output_type": "stream",
     "text": [
      "<p id=\"p1\">我是段落一</p>\n",
      "<class 'bs4.element.Tag'>\n",
      "[<p id=\"p1\">我是段落一</p>, <p class=\"red\" id=\"p2\">我是段落二</p>]\n",
      "<class 'bs4.element.ResultSet'>\n",
      "<p class=\"red\" id=\"p2\">我是段落二</p>\n",
      "<p class=\"red\" id=\"p2\">我是段落二</p>\n"
     ]
    }
   ],
   "source": [
    "from bs4 import BeautifulSoup\n",
    "sp = BeautifulSoup(html, 'lxml')\n",
    "print(sp.find('p'))\n",
    "print(type(sp.find('p'))) # Tag物件 (找到第一個滿足條件者)\n",
    "print(sp.find_all('p'))\n",
    "print(type(sp.find_all('p'))) # ResultSet物件\n",
    "print(sp.find('p', {'id':'p2', 'class':'red'}))  #加入標籤屬性為搜尋條件\n",
    "print(sp.find('p', id='p2', class_= 'red'))      #加入標籤屬性為搜尋條件"
   ]
  },
  {
   "cell_type": "markdown",
   "metadata": {
    "id": "YViNrNs855ni"
   },
   "source": [
    "## 利用CSS選擇器找尋內容：select()"
   ]
  },
  {
   "cell_type": "code",
   "execution_count": 26,
   "metadata": {
    "colab": {
     "base_uri": "https://localhost:8080/"
    },
    "id": "UkwcWVC556PB",
    "outputId": "00875ccd-646d-4cee-c52f-c7e84968823a"
   },
   "outputs": [
    {
     "name": "stdout",
     "output_type": "stream",
     "text": [
      "[<title>我是網頁標題</title>]\n",
      "<class 'bs4.element.ResultSet'>\n",
      "[<p id=\"p1\">我是段落一</p>, <p class=\"red\" id=\"p2\">我是段落二</p>]\n",
      "<class 'bs4.element.ResultSet'>\n",
      "[<p id=\"p1\">我是段落一</p>]\n",
      "[<p class=\"red\" id=\"p2\">我是段落二</p>]\n"
     ]
    }
   ],
   "source": [
    "from bs4 import BeautifulSoup\n",
    "sp = BeautifulSoup(html, 'lxml')\n",
    "print(sp.select('title'))  #select一律回覆串列格式\n",
    "print(type(sp.select('title'))) # ResultSet物件\n",
    "print(sp.select('p'))\n",
    "print(type(sp.select('p'))) # ResultSet物件\n",
    "print(sp.select('#p1'))     #利用CSS 選擇器\n",
    "print(sp.select('.red'))    #利用CSS 選擇器"
   ]
  },
  {
   "cell_type": "markdown",
   "metadata": {
    "id": "ukfmGZfL66Ta"
   },
   "source": [
    "## *取得標籤的屬性內容*"
   ]
  },
  {
   "cell_type": "code",
   "execution_count": 28,
   "metadata": {
    "id": "fZuuT3oh6-GC"
   },
   "outputs": [],
   "source": [
    "html = '''\n",
    "<html>\n",
    "  <head><meta charset=\"UTF-8\"><title>我是網頁標題</title></head>\n",
    "  <body>\n",
    "      <img src=\"http://www.ehappy.tw/python.png\">\n",
    "      <a href=\"http://www.e-happy.com.tw\">超連結</a>\n",
    "  </body>\n",
    "</html>\n",
    "'''"
   ]
  },
  {
   "cell_type": "code",
   "execution_count": 29,
   "metadata": {
    "colab": {
     "base_uri": "https://localhost:8080/"
    },
    "id": "vUxWes-a7Ymz",
    "outputId": "1f69e138-45f6-419a-89c0-1c63338b9281"
   },
   "outputs": [
    {
     "name": "stdout",
     "output_type": "stream",
     "text": [
      "http://www.ehappy.tw/python.png\n",
      "http://www.e-happy.com.tw\n",
      "http://www.ehappy.tw/python.png\n",
      "http://www.e-happy.com.tw\n"
     ]
    }
   ],
   "source": [
    "from bs4 import BeautifulSoup\n",
    "sp = BeautifulSoup(html, 'lxml')\n",
    "print(sp.select('img')[0].get('src')) #使用get()方法\n",
    "print(sp.select('a')[0].get('href'))\n",
    "print(sp.select('img')[0]['src'])     #使用字典的索引方法\n",
    "print(sp.select('a')[0]['href'])"
   ]
  },
  {
   "cell_type": "code",
   "execution_count": 30,
   "metadata": {},
   "outputs": [
    {
     "name": "stdout",
     "output_type": "stream",
     "text": [
      "<p class=\"title\"><b>The Dormouse's story</b></p>\n",
      "p\n",
      "[<b>The Dormouse's story</b>]\n",
      "The Dormouse's story\n",
      "['title']\n",
      "['title']\n"
     ]
    }
   ],
   "source": [
    "#取得Tag的屬性和相關值\n",
    "#https://www.crummy.com/software/BeautifulSoup/bs4/doc/\n",
    "\n",
    "html_doc = \"\"\"\n",
    "<html><head><title>The Dormouse's story</title></head>\n",
    "<body>\n",
    "<p class=\"title\"><b>The Dormouse's story</b></p>\n",
    "\n",
    "<p class=\"story\">Once upon a time there were three little sisters; and their names were\n",
    "<a href=\"http://example.com/elsie\" class=\"sister\" id=\"link1\">Elsie</a>,\n",
    "<a href=\"http://example.com/lacie\" class=\"sister\" id=\"link2\">Lacie</a> and\n",
    "<a href=\"http://example.com/tillie\" class=\"sister\" id=\"link3\">Tillie</a>;\n",
    "and they lived at the bottom of a well.</p>\n",
    "\n",
    "<p class=\"story\">...</p>\n",
    "</body>\n",
    "</html>\n",
    "\"\"\"\n",
    "\n",
    "from bs4 import BeautifulSoup\n",
    "soup = BeautifulSoup(html_doc, 'html.parser')\n",
    "\n",
    "p = soup.p\n",
    "print(p)\n",
    "print(p.name)\n",
    "print(p.contents)  #A tag’s children are available in a list called .contents\n",
    "print(p.string)\n",
    "print(p['class'])\n",
    "print(p.get('class'))"
   ]
  },
  {
   "cell_type": "code",
   "execution_count": 31,
   "metadata": {},
   "outputs": [
    {
     "name": "stdout",
     "output_type": "stream",
     "text": [
      "<a class=\"sister\" href=\"http://example.com/elsie\" id=\"link1\">Elsie</a>\n",
      "a\n",
      "['Elsie']\n",
      "Elsie\n",
      "http://example.com/elsie\n",
      "['sister']\n",
      "link1\n"
     ]
    }
   ],
   "source": [
    "#取得Tag的屬性和相關值\n",
    "#https://www.crummy.com/software/BeautifulSoup/bs4/doc/\n",
    "\n",
    "html_doc = \"\"\"\n",
    "<html><head><title>The Dormouse's story</title></head>\n",
    "<body>\n",
    "<p class=\"title\"><b>The Dormouse's story</b></p>\n",
    "\n",
    "<p class=\"story\">Once upon a time there were three little sisters; and their names were\n",
    "<a href=\"http://example.com/elsie\" class=\"sister\" id=\"link1\">Elsie</a>,\n",
    "<a href=\"http://example.com/lacie\" class=\"sister\" id=\"link2\">Lacie</a> and\n",
    "<a href=\"http://example.com/tillie\" class=\"sister\" id=\"link3\">Tillie</a>;\n",
    "and they lived at the bottom of a well.</p>\n",
    "\n",
    "<p class=\"story\">...</p>\n",
    "</body>\n",
    "</html>\n",
    "\"\"\"\n",
    "\n",
    "from bs4 import BeautifulSoup\n",
    "soup = BeautifulSoup(html_doc, 'html.parser')\n",
    "\n",
    "a = soup.a\n",
    "print(a)\n",
    "print(a.name)\n",
    "print(a.contents)\n",
    "print(a.string)\n",
    "print(a['href'])  # print(a.get('href'))\n",
    "print(a['class']) # print(a.get('class'))\n",
    "print(a['id'])    # print(a.get('id'))"
   ]
  },
  {
   "cell_type": "code",
   "execution_count": 2,
   "metadata": {},
   "outputs": [
    {
     "name": "stdout",
     "output_type": "stream",
     "text": [
      "<ul>\n",
      "<li>Coffee</li>\n",
      "<li>Tea</li>\n",
      "<li>Milk</li>\n",
      "</ul>\n",
      "ul\n",
      "['\\n', <li>Coffee</li>, '\\n', <li>Tea</li>, '\\n', <li>Milk</li>, '\\n']\n",
      "\n",
      "Coffee\n",
      "Tea\n",
      "Milk\n",
      "\n",
      "1 \n",
      "\n",
      "2 <li>Coffee</li>\n",
      "3 \n",
      "\n",
      "4 <li>Tea</li>\n",
      "5 \n",
      "\n",
      "6 <li>Milk</li>\n",
      "7 \n",
      "\n"
     ]
    }
   ],
   "source": [
    "#取得Tag的內容\n",
    "#https://www.crummy.com/software/BeautifulSoup/bs4/doc/\n",
    "\n",
    "html_doc = \"\"\"\n",
    "<html><head><title>The Dormouse's story</title></head>\n",
    "<body>\n",
    "<ul>\n",
    "  <li>Coffee</li>\n",
    "  <li>Tea</li>\n",
    "  <li>Milk</li>\n",
    "</ul>\n",
    "</body>\n",
    "</html>\n",
    "\"\"\"\n",
    "\n",
    "from bs4 import BeautifulSoup\n",
    "soup = BeautifulSoup(html_doc, 'html.parser')\n",
    "\n",
    "p = soup.ul\n",
    "print(p)\n",
    "print(p.name)\n",
    "print(p.contents)  #A tag’s children are available in a list called .contents\n",
    "print(p.text)      #Tag內容的文字\n",
    "# print(p.string)\n",
    "i = 1\n",
    "for t in p.children:   #取出Tag內容的每一個child (同.contents的串列元素)\n",
    "    print(i,t)\n",
    "    i = i + 1\n",
    "# print(p.children)"
   ]
  },
  {
   "cell_type": "markdown",
   "metadata": {
    "id": "nON_r7sqCo4P"
   },
   "source": [
    "## 專題：威力彩開獎號碼"
   ]
  },
  {
   "cell_type": "code",
   "execution_count": 32,
   "metadata": {
    "colab": {
     "base_uri": "https://localhost:8080/"
    },
    "id": "bcRuMI24j-4Z",
    "outputId": "baa4846f-8d20-4928-bfa7-f7ab7a5b955a"
   },
   "outputs": [
    {
     "name": "stdout",
     "output_type": "stream",
     "text": [
      "威力彩期數： 112/8/28 第112000069期 \n",
      "開出順序： 03  08  06  15  38  24  \n",
      "大小順序： 03  06  08  15  24  38  \n",
      "第二區： 05 \n"
     ]
    }
   ],
   "source": [
    "import requests\n",
    "from bs4 import BeautifulSoup\n",
    "url = 'https://www.taiwanlottery.com.tw/'\n",
    "r = requests.get(url)\n",
    "sp = BeautifulSoup(r.text, 'lxml')\n",
    "# 找到威力彩的區塊\n",
    "datas = sp.find('div', class_='contents_box02')\n",
    "# 開獎期數\n",
    "title = datas.find('span', 'font_black15').text\n",
    "print('威力彩期數：', title)\n",
    "# 開獎號碼\n",
    "nums = datas.find_all('div', class_='ball_tx ball_green')\n",
    "# 開出順序\n",
    "print('開出順序：', end=' ')\n",
    "for i in range(0,6):\n",
    "    print(nums[i].text, end=' ')\n",
    "# 大小順序\n",
    "print('\\n大小順序：', end=' ')\n",
    "for i in range(6,12):\n",
    "    print(nums[i].text, end=' ')\n",
    "# 第二區\n",
    "num = datas.find('div', class_='ball_red').text\n",
    "print('\\n第二區：', num)"
   ]
  },
  {
   "cell_type": "markdown",
   "metadata": {
    "id": "1Bc7nC73n7z4"
   },
   "source": [
    "# 使用正規表達式"
   ]
  },
  {
   "cell_type": "markdown",
   "metadata": {
    "id": "X24-X2J-oIQG"
   },
   "source": [
    "## 建立正規表達式物件"
   ]
  },
  {
   "cell_type": "code",
   "execution_count": 33,
   "metadata": {
    "id": "spxxGh3DD234"
   },
   "outputs": [
    {
     "name": "stdout",
     "output_type": "stream",
     "text": [
      "<re.Match object; span=(3, 6), match='123'>\n"
     ]
    }
   ],
   "source": [
    "#https://www.w3schools.com/python/python_regex.asp\n",
    "#https://www.runoob.com/python/python-reg-expressions.html\n",
    "#https://pythex.org/\n",
    "\n",
    "import re\n",
    "m = re.search(r'[0-9]+','abc123xyz') #在字串中，尋找一個相符者(可以是字串中間一段)\n",
    "print(m)"
   ]
  },
  {
   "cell_type": "markdown",
   "metadata": {
    "id": "X4Nf5WvNoelO"
   },
   "source": [
    "### match()方法"
   ]
  },
  {
   "cell_type": "code",
   "execution_count": 34,
   "metadata": {
    "colab": {
     "base_uri": "https://localhost:8080/"
    },
    "id": "rkKSTwGloave",
    "outputId": "3c8c3659-130d-45a5-ff41-c156a6573df1"
   },
   "outputs": [
    {
     "name": "stdout",
     "output_type": "stream",
     "text": [
      "<re.Match object; span=(0, 3), match='abc'>\n"
     ]
    }
   ],
   "source": [
    "import re\n",
    "m = re.match(r'[a-z]+','abc123xyz')  #在字串中，尋找一個相符者，必須從字串開頭相符\n",
    "print(m)"
   ]
  },
  {
   "cell_type": "code",
   "execution_count": 35,
   "metadata": {
    "colab": {
     "base_uri": "https://localhost:8080/"
    },
    "id": "a6Y--kNWoy5e",
    "outputId": "ce895713-172c-4733-fdc1-b54c0ec409a4"
   },
   "outputs": [
    {
     "name": "stdout",
     "output_type": "stream",
     "text": [
      "abc\n",
      "0\n",
      "3\n",
      "(0, 3)\n"
     ]
    }
   ],
   "source": [
    "if m != None:\n",
    "    print(m.group())    #abc\n",
    "    print(m.start())    #0\n",
    "    print(m.end())      #3\n",
    "    print(m.span())     #(0, 3)"
   ]
  },
  {
   "cell_type": "code",
   "execution_count": null,
   "metadata": {},
   "outputs": [],
   "source": [
    "#re.compile 函數\n",
    "#compile 函數用來編譯正規表示式，產生一個正規表示式（ Pattern ）對象，可以給match() 、 search() 以及findall 等函數使用\n",
    "#https://www.runoob.com/python/python-reg-expressions.html\n",
    "\n",
    "import re\n",
    "p =  re.compile(r'[a-z]+')\n",
    "m = p.match('abc123xyz') #在字串中，尋找一個相符者(可以是字串中間一段)\n",
    "print(m)"
   ]
  },
  {
   "cell_type": "markdown",
   "metadata": {
    "id": "MVTQyg-Co8x-"
   },
   "source": [
    "### search()方法"
   ]
  },
  {
   "cell_type": "code",
   "execution_count": 36,
   "metadata": {
    "colab": {
     "base_uri": "https://localhost:8080/"
    },
    "id": "QruC_zPCozBu",
    "outputId": "a027020c-c1a1-4c31-9bc7-a15d9c8aefee"
   },
   "outputs": [
    {
     "name": "stdout",
     "output_type": "stream",
     "text": [
      "<re.Match object; span=(0, 3), match='abc'>\n",
      "abc\n",
      "0\n",
      "3\n",
      "(0, 3)\n"
     ]
    }
   ],
   "source": [
    "import re\n",
    "m = re.search(r'[a-z]+', 'abc123xyz')\n",
    "print(m)    # <re.Match object; span=(0, 3), match='abc'>\n",
    "if m != None:\n",
    "    print(m.group())  # abc\n",
    "    print(m.start())  # 0\n",
    "    print(m.end())    # 3\n",
    "    print(m.span())   # (0,3)"
   ]
  },
  {
   "cell_type": "code",
   "execution_count": null,
   "metadata": {},
   "outputs": [],
   "source": [
    "#re.compile 函數\n",
    "#compile 函數用來編譯正規表示式，產生一個正規表示式（ Pattern ）對象，可以給match() 、 search() 以及findall 等函數使用\n",
    "\n",
    "import re\n",
    "p =  re.compile(r'[0-9]+')\n",
    "m = p.search('abc123xyz') #在字串中，尋找一個相符者(可以是字串中間一段)\n",
    "print(m)"
   ]
  },
  {
   "cell_type": "markdown",
   "metadata": {
    "id": "fZkls1-npiG_"
   },
   "source": [
    "### findall()方法"
   ]
  },
  {
   "cell_type": "code",
   "execution_count": 37,
   "metadata": {
    "colab": {
     "base_uri": "https://localhost:8080/"
    },
    "id": "9Q0TxTxzpihX",
    "outputId": "2b9e5c77-01e5-4b84-d217-6a380d7a5362"
   },
   "outputs": [
    {
     "name": "stdout",
     "output_type": "stream",
     "text": [
      "['abc', 'xyz']\n"
     ]
    }
   ],
   "source": [
    "import re\n",
    "m = re.findall(r'[a-z]+', 'abc123xyz')\n",
    "print(m)    # ['abc', 'xyz'] "
   ]
  },
  {
   "cell_type": "code",
   "execution_count": null,
   "metadata": {},
   "outputs": [],
   "source": [
    "#re.compile 函數\n",
    "#compile 函數用來編譯正規表示式，產生一個正規表示式（ Pattern ）對象，可以給match() 、 search() 以及findall 等函數使用\n",
    "\n",
    "import re\n",
    "p =  re.compile(r'[a-z]+')\n",
    "m = p.findall('abc123xyz')\n",
    "print(m)    # ['abc', 'xyz'] "
   ]
  },
  {
   "cell_type": "markdown",
   "metadata": {
    "id": "kNCJ6WcPpp8o"
   },
   "source": [
    "## 使用正規表達式取代內容"
   ]
  },
  {
   "cell_type": "code",
   "execution_count": 38,
   "metadata": {
    "colab": {
     "base_uri": "https://localhost:8080/"
    },
    "id": "wH7AxNS-pqOO",
    "outputId": "d71f0dcf-0663-4658-9339-d35a9dcdbab3"
   },
   "outputs": [
    {
     "name": "stdout",
     "output_type": "stream",
     "text": [
      "Password:*,ID:*\n"
     ]
    }
   ],
   "source": [
    "import re\n",
    "result = re.sub(r\"\\d+\", \"*\", \"Password:1234,ID:5678\")\n",
    "print(result)\t\t# Password:*,ID:*"
   ]
  },
  {
   "cell_type": "code",
   "execution_count": 39,
   "metadata": {},
   "outputs": [
    {
     "name": "stdout",
     "output_type": "stream",
     "text": [
      "Password:****,ID:****\n"
     ]
    }
   ],
   "source": [
    "import re\n",
    "result = re.sub(r\"\\d\", \"*\", \"Password:1234,ID:5678\")\n",
    "print(result)\t\t# Password:*,ID:*"
   ]
  },
  {
   "cell_type": "markdown",
   "metadata": {
    "id": "IWJjCqhrp1Nf"
   },
   "source": [
    "## 範例：正規表示式練習"
   ]
  },
  {
   "cell_type": "code",
   "execution_count": 27,
   "metadata": {
    "id": "jj-OLmkZp1UZ"
   },
   "outputs": [],
   "source": [
    "html = \"\"\"\n",
    "<div class=\"content\">\n",
    "    E-Mail：<a href=\"mailto:mail@test.com.tw\">\n",
    "      mail</a><br>\n",
    "    E-Mail2：<a href=\"mailto:mail2@test.com.tw\">\n",
    "      mail2</a><br>\n",
    "    <ul class=\"price\">定價：360元 </ul>\n",
    "    <img src=\"http://test.com.tw/p1.jpg\">\n",
    "    <img src=\"http://test.com.tw/p2.png\">\n",
    "    電話：(04)-76543210、0937-123456\n",
    "</div>\n",
    "\"\"\""
   ]
  },
  {
   "cell_type": "code",
   "execution_count": 28,
   "metadata": {
    "colab": {
     "base_uri": "https://localhost:8080/"
    },
    "id": "a-7fDNkIp9Xf",
    "outputId": "437be839-3a6d-4c4e-c204-e6f6f1e8b684"
   },
   "outputs": [
    {
     "name": "stdout",
     "output_type": "stream",
     "text": [
      "mail@test.com.tw\n",
      "mail2@test.com.tw\n",
      "360\n",
      "http://test.com.tw/p1.jpg\n",
      "http://test.com.tw/p2.png\n",
      "(04)-76543210\n",
      "0937-123456\n"
     ]
    }
   ],
   "source": [
    "import re\n",
    "pattern=r'[a-zA-Z0-9_.+-]+@[a-zA-Z0-9-]+\\.[a-zA-Z0-9-.]+'\n",
    "emails = re.findall(pattern,html)\n",
    "for email in emails: #顯示 email\n",
    "    print(email)\n",
    "\n",
    "price=re.findall(r'[\\d]+元',html)[0].split('元')[0] #價格\n",
    "print(price) #顯示定價金額\n",
    "\n",
    "imglist = re.findall(r'[http://]+[a-zA-Z0-9-/.]+\\.[jpgpng]+',html)\n",
    "for img in imglist: #\n",
    "    print(img) #顯示圖片網址\n",
    "    \n",
    "phonelist = re.findall(r'\\(?\\d{2,4}\\)?\\-\\d{6,8}',html)\n",
    "for phone in phonelist:\n",
    "    print(phone) #顯示電話號碼 "
   ]
  },
  {
   "cell_type": "code",
   "execution_count": 40,
   "metadata": {},
   "outputs": [
    {
     "name": "stdout",
     "output_type": "stream",
     "text": [
      "http://test.com.tw/p1.jpg\n",
      "http://test.com.tw/p2.jpg\n",
      "http://test.com.tw/p3.png\n",
      "http://test.com.tw/p4.p\n",
      "http://test.com.tw/p4.jjj\n"
     ]
    }
   ],
   "source": [
    "html = \"\"\"\n",
    "<div class=\"content\">\n",
    "    E-Mail：<a href=\"mailto:mail@test.com.tw\">mail</a><br>\n",
    "    E-Mail2：<a href=\"mailto:mail2@test.com.tw\">mail2</a><br>\n",
    "    <ul class=\"price\">定價：360元 </ul>\n",
    "    <img src=\"http://test.com.tw/p1.jpg\">\n",
    "    <img src=\"http://test.com.tw/p2.jpg\">\n",
    "    <img src=\"http://test.com.tw/p3.png\">\n",
    "    <img src=\"http://test.com.tw/p4.p\">\n",
    "    <img src=\"http://test.com.tw/p4.jjj\">\n",
    "    電話：(04)-76543210、0937-123456\n",
    "</div>\n",
    "\"\"\"\n",
    "\n",
    "import re\n",
    "\n",
    "imglist = re.findall(r'[http://]+[a-zA-Z0-9-/.]+\\.[jpgpng]+',html)  #錯誤\n",
    "for img in imglist: #\n",
    "    print(img) #顯示圖片網址"
   ]
  },
  {
   "cell_type": "code",
   "execution_count": 41,
   "metadata": {},
   "outputs": [
    {
     "name": "stdout",
     "output_type": "stream",
     "text": [
      "http://test.com.tw/p1.jpg\n",
      "http://test.com.tw/p2.jpg\n",
      "http://test.com.tw/p3.png\n"
     ]
    }
   ],
   "source": [
    "html = \"\"\"\n",
    "<div class=\"content\">\n",
    "    E-Mail：<a href=\"mailto:mail@test.com.tw\">mail</a><br>\n",
    "    E-Mail2：<a href=\"mailto:mail2@test.com.tw\">mail2</a><br>\n",
    "    <ul class=\"price\">定價：360元 </ul>\n",
    "    <img src=\"http://test.com.tw/p1.jpg\">\n",
    "    <img src=\"http://test.com.tw/p2.jpg\">\n",
    "    <img src=\"http://test.com.tw/p3.png\">\n",
    "    <img src=\"http://test.com.tw/p4.p\">\n",
    "    <img src=\"http://test.com.tw/p4.jjj\">\n",
    "    電話：(04)-76543210、0937-123456\n",
    "</div>\n",
    "\"\"\"\n",
    "\n",
    "import re\n",
    "\n",
    "imglist = re.findall(r'[http://]+[a-zA-Z0-9-/.]+\\.jpg|[http://]+[a-zA-Z0-9-/.]+\\.png',html)  #OK\n",
    "for img in imglist: #\n",
    "    print(img) #顯示圖片網址"
   ]
  },
  {
   "cell_type": "code",
   "execution_count": 42,
   "metadata": {},
   "outputs": [
    {
     "name": "stdout",
     "output_type": "stream",
     "text": [
      "http://test.com.tw/p1.jpg\n",
      "http://test.com.tw/p2.jpg\n",
      "http://test.com.tw/p3.png\n"
     ]
    }
   ],
   "source": [
    "html = \"\"\"\n",
    "<div class=\"content\">\n",
    "    E-Mail：<a href=\"mailto:mail@test.com.tw\">mail</a><br>\n",
    "    E-Mail2：<a href=\"mailto:mail2@test.com.tw\">mail2</a><br>\n",
    "    <ul class=\"price\">定價：360元 </ul>\n",
    "    <img src=\"http://test.com.tw/p1.jpg\">\n",
    "    <img src=\"http://test.com.tw/p2.jpg\">\n",
    "    <img src=\"http://test.com.tw/p3.png\">\n",
    "    <img src=\"http://test.com.tw/p4.p\">\n",
    "    <img src=\"http://test.com.tw/p4.jjj\">\n",
    "    電話：(04)-76543210、0937-123456\n",
    "</div>\n",
    "\"\"\"\n",
    "\n",
    "import re\n",
    "\n",
    "imglist = re.findall(r'http://[a-zA-Z0-9-/.]+\\.jpg|http://[a-zA-Z0-9-/.]+\\.png',html)  #OK\n",
    "for img in imglist: #\n",
    "    print(img) #顯示圖片網址"
   ]
  },
  {
   "cell_type": "code",
   "execution_count": null,
   "metadata": {},
   "outputs": [],
   "source": [
    "#https://pythex.org/\n",
    "#測試規則: http://[a-zA-Z0-9-/.]+\\.(jpg|png)"
   ]
  },
  {
   "cell_type": "code",
   "execution_count": 43,
   "metadata": {},
   "outputs": [
    {
     "name": "stdout",
     "output_type": "stream",
     "text": [
      "<html>\n",
      " <head>\n",
      "  <title>\n",
      "   Hello World\n",
      "  </title>\n",
      " </head>\n",
      " <body>\n",
      "  <h2>\n",
      "   Test Header\n",
      "  </h2>\n",
      "  <p>\n",
      "   This is a test.\n",
      "  </p>\n",
      "  <a href=\"/my_link1\" id=\"link1\">\n",
      "   Link 1\n",
      "  </a>\n",
      "  <a href=\"/my_link2\" id=\"link2\">\n",
      "   Link 2\n",
      "  </a>\n",
      "  <p>\n",
      "   Hello,\n",
      "   <b class=\"boldtext\">\n",
      "    Bold Text\n",
      "   </b>\n",
      "  </p>\n",
      " </body>\n",
      "</html>\n",
      "\n"
     ]
    }
   ],
   "source": [
    "#https://blog.gtwang.org/programming/python-beautiful-soup-module-scrape-web-pages-tutorial/\n",
    "\n",
    "# 引入 Beautiful Soup 模組\n",
    "from bs4 import BeautifulSoup\n",
    "\n",
    "# 原始 HTML 程式碼\n",
    "html_doc = \"\"\"\n",
    "<html><head><title>Hello World</title></head>\n",
    "<body><h2>Test Header</h2>\n",
    "<p>This is a test.</p>\n",
    "<a id=\"link1\" href=\"/my_link1\">Link 1</a>\n",
    "<a id=\"link2\" href=\"/my_link2\">Link 2</a>\n",
    "<p>Hello, <b class=\"boldtext\">Bold Text</b></p>\n",
    "</body></html>\n",
    "\"\"\"\n",
    "\n",
    "# 以 Beautiful Soup 解析 HTML 程式碼\n",
    "soup = BeautifulSoup(html_doc, 'html.parser')\n",
    "\n",
    "# 輸出排版後的 HTML 程式碼\n",
    "print(soup.prettify())"
   ]
  },
  {
   "cell_type": "code",
   "execution_count": 44,
   "metadata": {},
   "outputs": [
    {
     "name": "stdout",
     "output_type": "stream",
     "text": [
      "[<a href=\"/my_link1\" id=\"link1\">Link 1</a>]\n"
     ]
    }
   ],
   "source": [
    "#https://blog.gtwang.org/programming/python-beautiful-soup-module-scrape-web-pages-tutorial/\n",
    "\n",
    "# 引入 Beautiful Soup 模組\n",
    "from bs4 import BeautifulSoup\n",
    "\n",
    "# 原始 HTML 程式碼\n",
    "html_doc = \"\"\"\n",
    "<html><head><title>Hello World</title></head>\n",
    "<body><h2>Test Header</h2>\n",
    "<p>This is a test.</p>\n",
    "<a id=\"link1\" href=\"/my_link1\">Link 1</a>\n",
    "<a id=\"link2\" href=\"/my_link2\">Link 2</a>\n",
    "<p>Hello, <b class=\"boldtext\">Bold Text</b></p>\n",
    "</body></html>\n",
    "\"\"\"\n",
    "\n",
    "# 以 Beautiful Soup 解析 HTML 程式碼\n",
    "soup = BeautifulSoup(html_doc, 'html.parser')\n",
    "\n",
    "# 搜尋 href 屬性為 /my_link1 的 a 節點\n",
    "a_tag = soup.find_all(\"a\", href=\"/my_link1\")\n",
    "print(a_tag)"
   ]
  },
  {
   "cell_type": "code",
   "execution_count": 45,
   "metadata": {},
   "outputs": [
    {
     "name": "stdout",
     "output_type": "stream",
     "text": [
      "[<a href=\"/my_link1\" id=\"link1\">Link 1</a>, <a href=\"/my_link2\" id=\"link2\">Link 2</a>]\n"
     ]
    }
   ],
   "source": [
    "#https://blog.gtwang.org/programming/python-beautiful-soup-module-scrape-web-pages-tutorial/\n",
    "\n",
    "# 引入 Beautiful Soup 模組\n",
    "from bs4 import BeautifulSoup\n",
    "\n",
    "import re\n",
    "\n",
    "# 原始 HTML 程式碼\n",
    "html_doc = \"\"\"\n",
    "<html><head><title>Hello World</title></head>\n",
    "<body><h2>Test Header</h2>\n",
    "<p>This is a test.</p>\n",
    "<a id=\"link1\" href=\"/my_link1\">Link 1</a>\n",
    "<a id=\"link2\" href=\"/my_link2\">Link 2</a>\n",
    "<p>Hello, <b class=\"boldtext\">Bold Text</b></p>\n",
    "</body></html>\n",
    "\"\"\"\n",
    "\n",
    "# 以 Beautiful Soup 解析 HTML 程式碼\n",
    "soup = BeautifulSoup(html_doc, 'html.parser')\n",
    "\n",
    "# 以正規表示法比對超連結網址\n",
    "links = soup.find_all(href=re.compile(\"^/my_link\\d\")) #找出href=\"/my_link1\", href=\"/my_link2\"\n",
    "print(links)"
   ]
  },
  {
   "cell_type": "code",
   "execution_count": null,
   "metadata": {},
   "outputs": [],
   "source": []
  }
 ],
 "metadata": {
  "colab": {
   "collapsed_sections": [],
   "name": "數據資料的爬取.ipynb",
   "provenance": [],
   "toc_visible": true
  },
  "kernelspec": {
   "display_name": "Python [conda env:anaconda3]",
   "language": "python",
   "name": "conda-env-anaconda3-py"
  },
  "language_info": {
   "codemirror_mode": {
    "name": "ipython",
    "version": 3
   },
   "file_extension": ".py",
   "mimetype": "text/x-python",
   "name": "python",
   "nbconvert_exporter": "python",
   "pygments_lexer": "ipython3",
   "version": "3.13.5"
  }
 },
 "nbformat": 4,
 "nbformat_minor": 4
}
