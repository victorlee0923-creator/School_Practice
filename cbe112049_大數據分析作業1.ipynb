{
  "nbformat": 4,
  "nbformat_minor": 0,
  "metadata": {
    "colab": {
      "provenance": [],
      "authorship_tag": "ABX9TyOSeYuaw65NHjm8MVOmZGph",
      "include_colab_link": true
    },
    "kernelspec": {
      "name": "python3",
      "display_name": "Python 3"
    },
    "language_info": {
      "name": "python"
    }
  },
  "cells": [
    {
      "cell_type": "markdown",
      "metadata": {
        "id": "view-in-github",
        "colab_type": "text"
      },
      "source": [
        "<a href=\"https://colab.research.google.com/github/victorlee0923-creator/School_Practice/blob/main/cbe112049_%E5%A4%A7%E6%95%B8%E6%93%9A%E5%88%86%E6%9E%90%E4%BD%9C%E6%A5%AD1.ipynb\" target=\"_parent\"><img src=\"https://colab.research.google.com/assets/colab-badge.svg\" alt=\"Open In Colab\"/></a>"
      ]
    },
    {
      "cell_type": "code",
      "execution_count": null,
      "metadata": {
        "id": "YekDr0pXUL3g"
      },
      "outputs": [],
      "source": [
        "#BeautifulSoup爬網\n",
        "#https://blog.gtwang.org/programming/python-beautiful-soup-module-scrape-web-pages-tutorial/\n",
        "#https://www.crummy.com/software/BeautifulSoup/bs4/doc/\n",
        "\n",
        "import requests\n",
        "from bs4 import BeautifulSoup\n",
        "\n",
        "url = 'https://www.nptu.edu.tw/p/412-1000-3328.php?Lang=zh-tw'\n",
        "html = requests.get(url)\n",
        "html.encoding = 'UTF-8'\n",
        "\n",
        "sp = BeautifulSoup(html.text, 'lxml')\n",
        "\n",
        "# sp = BeautifulSoup(test, 'lxml')\n",
        "\n",
        "x = sp.select('.cnc-link')\n",
        "\n",
        "for i in x:\n",
        "    print(i.text, end='')           # 不換行\n",
        "    # print(i.name)\n",
        "    print(\" (\", i[\"href\"], \")\", end='')  # 不換行"
      ]
    },
    {
      "cell_type": "code",
      "source": [
        "import requests\n",
        "from bs4 import BeautifulSoup\n",
        "\n",
        "url = 'https://www.nptu.edu.tw/p/412-1000-3328.php?Lang=zh-tw'\n",
        "html = requests.get(url)\n",
        "html.encoding = 'UTF-8'\n",
        "\n",
        "sp = BeautifulSoup(html.text, 'lxml')\n",
        "\n",
        "# 抓所有標題 (h3.cnc-title)\n",
        "titles = sp.select('h3.cnc-title')\n",
        "\n",
        "# 抓所有連結 (.cnc-link)\n",
        "links = sp.select('.cnc-link')\n",
        "\n",
        "# 先印出標題\n",
        "for t in titles:\n",
        "    print(t.get_text(strip=True))  # strip=True 去掉前後空白\n",
        "\n",
        "# 再印出連結 (不換行)\n",
        "for i in links:\n",
        "    print(i.get_text(strip=True), end='')           # 不換行印出文字\n",
        "    print(\" (\", i[\"href\"], \")\", end='')             # 不換行印出連結\n"
      ],
      "metadata": {
        "colab": {
          "base_uri": "https://localhost:8080/"
        },
        "id": "wIkGFnCj7pWW",
        "outputId": "1345501f-285f-45ac-ab17-173cf7e8d57d"
      },
      "execution_count": 19,
      "outputs": [
        {
          "output_type": "stream",
          "name": "stdout",
          "text": [
            "校務與生活\n",
            "課程與教學\n",
            "網路資源\n",
            "財務資訊\n",
            "工讀資訊\n",
            "資訊公開\n",
            "學生資訊系統 ( https://webap.nptu.edu.tw/web/Secure/default.aspx?sIndex=2 )新生報到系統 ( https://webap.nptu.edu.tw/web/Secure/default.aspx?sIndex=5 )校務行政系統選單 ( https://webap.nptu.edu.tw/Web/Secure/default.aspx )行動屏大(APP) ( https://cnc.nptu.edu.tw/p/404-1007-52105-1.php?Lang=zh-tw )屏東大學網路郵局(WebMail) ( https://stmail.nptu.edu.tw/NUMail/Login  )學生住宿、校外賃居 ( https://staf-life.nptu.edu.tw/index.php )獎學金公告 ( https://staf-life.nptu.edu.tw/p/412-1074-14573.php?Lang=zh-tw )活動報名系統 ( https://webap.nptu.edu.tw/aes/ )社團資訊 ( https://scis.nptu.edu.tw/ )意見溝通平台 ( https://webap.nptu.edu.tw/fb/ )NPTU Plus TV ( https://www.youtube.com/channel/UCUL9xA_957KhmEpjm40lsYw )一卡通學生證掛失系統(日間學制) ( https://ipass.nptu.edu.tw/std/index.php/user/login )一卡通學生證掛失系統(進修學士班、碩士在職專班) ( https://ipass.nptu.edu.tw/ved/index.php/user/login )諮商輔導服務e化系統 ( https://counseling.nptu.edu.tw/CS_NPTU )教務證件線上申辦系統 ( https://register.nptu.edu.tw/home )多元繳費系統 ( https://payment.nptu.edu.tw/home/identity )新數位學習平台(114-1學期正式啟用) ( https://eeclass.nptu.edu.tw/ )數位學習平台(114-2學期關閉) ( https://elportal.nptu.edu.tw/mooc/index.php )UCAN ( https://ucan.moe.edu.tw )英語學習資源 ( https://library.nptu.edu.tw/misc/Language_source.aspx )即測即評及發證網 ( https://exam.nptu.edu.tw/index.php )學生校外實習專區 ( https://career.nptu.edu.tw/index.php )學生宿舍網路使用說明 ( https://cnc.nptu.edu.tw/p/404-1007-55180.php?Lang=zh-tw )G-Suite for Education ( https://cnc.nptu.edu.tw/p/406-1007-103129,r1265.php?Lang=zh-tw )校園無線網路 ( https://cnc.nptu.edu.tw/p/412-1007-3798.php?Lang=zh-tw )微軟Microsoft 365學生授權專區(內含教學軟體Teams) ( https://cnc.nptu.edu.tw/p/412-1007-15218.php?Lang=zh-tw )資安專區 ( https://cnc.nptu.edu.tw/p/412-1007-3807.php?Lang=zh-tw )學雜費專區 ( https://www.nptu.edu.tw/p/404-1000-40590.php )低收入戶相關福利(社會處) ( https://www.pthg.gov.tw/planjdp/Default.aspx )圓夢助學網 ( https://www.edu.tw/helpdreams )RICH 職場體驗網 ( https://rich.yda.gov.tw/ )校務與財務資訊公開專區 ( https://pubinfo.nptu.edu.tw/index.php )"
          ]
        }
      ]
    },
    {
      "cell_type": "code",
      "source": [
        "import requests\n",
        "from bs4 import BeautifulSoup\n",
        "\n",
        "url = 'https://www.nptu.edu.tw/p/412-1000-3328.php?Lang=zh-tw'\n",
        "html = requests.get(url)\n",
        "html.encoding = 'UTF-8'\n",
        "\n",
        "sp = BeautifulSoup(html.text, 'lxml')\n",
        "\n",
        "# 抓所有標題 (h3.cnc-title)\n",
        "titles = sp.select('h3.cnc-title')\n",
        "\n",
        "# 抓所有連結 (.cnc-link)\n",
        "links = sp.select('.cnc-link')\n",
        "\n",
        "# 先印出標題\n",
        "for t in titles:\n",
        "    print(t.get_text(strip=True))  # strip=True 去掉前後空白\n",
        "\n",
        "# 再印出連結 (不換行)\n",
        "for i in links:\n",
        "    print(i.get_text(strip=True), end='')           # 不換行印出文字\n",
        "    print(\" (\", i[\"href\"], \")\", end='')             # 不換行印出連結"
      ],
      "metadata": {
        "colab": {
          "base_uri": "https://localhost:8080/",
          "height": 106
        },
        "id": "A-5VGssq759d",
        "outputId": "d2bef201-8296-412e-f47a-f69a4ecb343b"
      },
      "execution_count": 20,
      "outputs": [
        {
          "output_type": "error",
          "ename": "IndentationError",
          "evalue": "expected an indented block after 'for' statement on line 19 (ipython-input-1570035218.py, line 20)",
          "traceback": [
            "\u001b[0;36m  File \u001b[0;32m\"/tmp/ipython-input-1570035218.py\"\u001b[0;36m, line \u001b[0;32m20\u001b[0m\n\u001b[0;31m    print(i.get_text(strip=True), end='')           # 不換行印出文字\u001b[0m\n\u001b[0m    ^\u001b[0m\n\u001b[0;31mIndentationError\u001b[0m\u001b[0;31m:\u001b[0m expected an indented block after 'for' statement on line 19\n"
          ]
        }
      ]
    }
  ]
}